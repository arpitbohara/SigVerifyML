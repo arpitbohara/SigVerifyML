{
 "cells": [
  {
   "cell_type": "code",
   "execution_count": 19,
   "metadata": {
    "collapsed": true
   },
   "outputs": [],
   "source": [
    "import numpy as np\n",
    "import os\n",
    "import matplotlib\n",
    "import matplotlib.pyplot as plt\n",
    "import matplotlib.image as mpimg\n",
    "import matplotlib.cm as cm\n",
    "from scipy import ndimage\n",
    "from skimage.measure import regionprops\n",
    "from skimage import io\n",
    "from skimage.filters import threshold_otsu   # For finding the threshold for grayscale to binary conversion\n",
    "import tensorflow as tf\n",
    "import pandas as pd\n",
    "import numpy as np\n",
    "from time import time\n",
    "import keras"
   ]
  },
  {
   "cell_type": "code",
   "execution_count": 20,
   "metadata": {},
   "outputs": [],
   "source": [
    "genuine_image_paths = \"D:\\\\Arpit College\\\\FYP\\\\SignatureVerificationSystem\\\\Data\\\\real/\"\n",
    "forged_image_paths = \"D:\\\\Arpit College\\\\FYP\\\\SignatureVerificationSystem\\\\Data\\\\forged/\"\n",
    "\n"
   ]
  },
  {
   "cell_type": "code",
   "execution_count": 21,
   "metadata": {},
   "outputs": [],
   "source": [
    "def rgbgrey(img):\n",
    "    # Converts rgb to grayscale\n",
    "    greyimg = np.zeros((img.shape[0], img.shape[1]))\n",
    "    for row in range(len(img)):\n",
    "        for col in range(len(img[row])):\n",
    "            greyimg[row][col] = np.average(img[row][col])\n",
    "    return greyimg"
   ]
  },
  {
   "cell_type": "code",
   "execution_count": 22,
   "metadata": {},
   "outputs": [],
   "source": [
    "def greybin(img):\n",
    "    # Converts grayscale to binary\n",
    "    blur_radius = 0.8\n",
    "    img = ndimage.gaussian_filter(img, blur_radius)  # to remove small components or noise\n",
    "#     img = ndimage.binary_erosion(img).astype(img.dtype)\n",
    "    thres = threshold_otsu(img)\n",
    "    binimg = img > thres\n",
    "    binimg = np.logical_not(binimg)\n",
    "    return binimg"
   ]
  },
  {
   "cell_type": "code",
   "execution_count": 23,
   "metadata": {
    "collapsed": true
   },
   "outputs": [],
   "source": [
    "def preproc(path, img=None, display=True):\n",
    "    if img is None:\n",
    "        img = mpimg.imread(path)\n",
    "    # if display:\n",
    "    #     print(\"RGB Image\")\n",
    "    #     plt.imshow(img)\n",
    "    #     plt.show()\n",
    "    grey = rgbgrey(img) #rgb to grey\n",
    "    # if display:\n",
    "    #     print(\"Greyscale Image\")\n",
    "    #     plt.imshow(grey, cmap = matplotlib.cm.Greys_r)\n",
    "    #     plt.show()\n",
    "    binimg = greybin(grey) #grey to binary\n",
    "    if display:\n",
    "        print(\"Binary Image\")\n",
    "        plt.imshow(binimg, cmap = matplotlib.cm.Greys_r)\n",
    "        plt.show()\n",
    "    r, c = np.where(binimg==1)\n",
    "    # Now we will make a bounding box with the boundary as the position of pixels on extreme.\n",
    "    # Thus we will get a cropped image with only the signature part.\n",
    "    signimg = binimg[r.min(): r.max(), c.min(): c.max()]\n",
    "    if display:\n",
    "        print(\"Cropped Image\")\n",
    "        plt.imshow(signimg, cmap = matplotlib.cm.Greys_r)\n",
    "        plt.show()\n",
    "    return signimg"
   ]
  },
  {
   "cell_type": "code",
   "execution_count": null,
   "metadata": {},
   "outputs": [],
   "source": []
  },
  {
   "cell_type": "code",
   "execution_count": 24,
   "metadata": {},
   "outputs": [],
   "source": [
    "def Ratio(img):\n",
    "    a = 0\n",
    "    for row in range(len(img)):\n",
    "        for col in range(len(img[0])):\n",
    "            if img[row][col]==True:\n",
    "                a = a+1\n",
    "    total = img.shape[0] * img.shape[1]\n",
    "    return a/total"
   ]
  },
  {
   "cell_type": "code",
   "execution_count": 25,
   "metadata": {},
   "outputs": [],
   "source": [
    "def Centroid(img):\n",
    "    numOfWhites = 0\n",
    "    a = np.array([0,0])\n",
    "    for row in range(len(img)):\n",
    "        for col in range(len(img[0])):\n",
    "            if img[row][col]==True:\n",
    "                b = np.array([row,col])\n",
    "                a = np.add(a,b)\n",
    "                numOfWhites += 1\n",
    "    rowcols = np.array([img.shape[0], img.shape[1]])\n",
    "    centroid = a/numOfWhites\n",
    "    centroid = centroid/rowcols\n",
    "    return centroid[0], centroid[1]"
   ]
  },
  {
   "cell_type": "code",
   "execution_count": 26,
   "metadata": {},
   "outputs": [],
   "source": [
    "def SkewKurtosis(img):\n",
    "    h,w = img.shape\n",
    "    x = range(w)  # cols value\n",
    "    y = range(h)  # rows value\n",
    "    #calculate projections along the x and y axes\n",
    "    xp = np.sum(img,axis=0)\n",
    "    yp = np.sum(img,axis=1)\n",
    "    #centroid\n",
    "    cx = np.sum(x*xp)/np.sum(xp)\n",
    "    cy = np.sum(y*yp)/np.sum(yp)\n",
    "    #standard deviation\n",
    "    x2 = (x-cx)**2\n",
    "    y2 = (y-cy)**2\n",
    "    sx = np.sqrt(np.sum(x2*xp)/np.sum(img))\n",
    "    sy = np.sqrt(np.sum(y2*yp)/np.sum(img))\n",
    "    \n",
    "    #skewness\n",
    "    x3 = (x-cx)**3\n",
    "    y3 = (y-cy)**3\n",
    "    skewx = np.sum(xp*x3)/(np.sum(img) * sx**3)\n",
    "    skewy = np.sum(yp*y3)/(np.sum(img) * sy**3)\n",
    "\n",
    "    #Kurtosis\n",
    "    x4 = (x-cx)**4\n",
    "    y4 = (y-cy)**4\n",
    "    # 3 is subtracted to calculate relative to the normal distribution\n",
    "    kurtx = np.sum(xp*x4)/(np.sum(img) * sx**4) - 3\n",
    "    kurty = np.sum(yp*y4)/(np.sum(img) * sy**4) - 3\n",
    "\n",
    "    return (skewx , skewy), (kurtx, kurty)"
   ]
  },
  {
   "cell_type": "code",
   "execution_count": 27,
   "metadata": {
    "collapsed": true
   },
   "outputs": [],
   "source": [
    "def EccentricitySolidity(img):\n",
    "    r = regionprops(img.astype(\"int8\"))\n",
    "    return r[0].eccentricity, r[0].solidity"
   ]
  },
  {
   "cell_type": "code",
   "execution_count": null,
   "metadata": {
    "collapsed": true
   },
   "outputs": [],
   "source": []
  },
  {
   "cell_type": "code",
   "execution_count": 28,
   "metadata": {
    "collapsed": true
   },
   "outputs": [],
   "source": [
    "def getFeatures(path, img=None, display=False):\n",
    "    if img is None:\n",
    "        img = mpimg.imread(path)\n",
    "    img = preproc(path, display=display)\n",
    "    ratio = Ratio(img)\n",
    "    centroid = Centroid(img)\n",
    "    eccentricity, solidity = EccentricitySolidity(img)\n",
    "    skewness, kurtosis = SkewKurtosis(img)\n",
    "    retVal = (ratio, centroid, eccentricity, solidity, skewness, kurtosis)\n",
    "    return retVal"
   ]
  },
  {
   "cell_type": "code",
   "execution_count": 29,
   "metadata": {
    "collapsed": true
   },
   "outputs": [],
   "source": [
    "def getCSVFeatures(path, img=None, display=False):\n",
    "    if img is None:\n",
    "        img = mpimg.imread(path)\n",
    "    temp = getFeatures(path, display=display)\n",
    "    features = (temp[0], temp[1][0], temp[1][1], temp[2], temp[3], temp[4][0], temp[4][1], temp[5][0], temp[5][1])\n",
    "    return features"
   ]
  },
  {
   "cell_type": "markdown",
   "metadata": {
    "collapsed": true
   },
   "source": [
    "## Saving the features"
   ]
  },
  {
   "cell_type": "code",
   "execution_count": 30,
   "metadata": {
    "collapsed": true
   },
   "outputs": [],
   "source": [
    "def makeCSV():\n",
    "    if not(os.path.exists('D:\\\\Arpit College\\\\FYP\\\\SignatureVerificationSystem\\\\Data\\\\Features')):\n",
    "        os.mkdir('D:\\\\Arpit College\\\\FYP\\\\SignatureVerificationSystem\\\\Data\\\\Features')\n",
    "        print('New folder \"Features\" created')\n",
    "        \n",
    "    if not(os.path.exists('D:\\\\Arpit College\\\\FYP\\\\SignatureVerificationSystem\\\\Data\\\\Features/Training')):\n",
    "        os.mkdir('D:\\\\Arpit College\\\\FYP\\\\SignatureVerificationSystem\\\\Data\\\\Features/Training')\n",
    "        print('New folder \"Features/Training\" created')\n",
    "\n",
    "    if not(os.path.exists('D:\\\\Arpit College\\\\FYP\\\\SignatureVerificationSystem\\\\Data\\\\Features/Testing')):\n",
    "        os.mkdir('D:\\\\Arpit College\\\\FYP\\\\SignatureVerificationSystem\\\\Data\\\\Features/Testing')\n",
    "        print('New folder \"Features/Testing\" created')\n",
    "    # genuine signatures path\n",
    "    gpath = genuine_image_paths\n",
    "    # forged signatures path\n",
    "    fpath = forged_image_paths\n",
    "    for person in range(1,15):\n",
    "        per = ('00'+str(person))[-3:]\n",
    "        print('Saving features for person id-',per)\n",
    "        \n",
    "        with open('D:\\\\Arpit College\\\\FYP\\\\SignatureVerificationSystem\\\\Data\\\\Features\\\\Training/training_'+per+'.csv', 'w') as handle:\n",
    "            handle.write('ratio,cent_y,cent_x,eccentricity,solidity,skew_x,skew_y,kurt_x,kurt_y,output\\n')\n",
    "            # Training set\n",
    "            for i in range(0,3):\n",
    "                source = os.path.join(gpath, per+per+'_00'+str(i)+'.png')\n",
    "                features = getCSVFeatures(path=source)\n",
    "                handle.write(','.join(map(str, features))+',1\\n')\n",
    "            for i in range(0,3):\n",
    "                source = os.path.join(fpath, '021'+per+'_00'+str(i)+'.png')\n",
    "                features = getCSVFeatures(path=source)\n",
    "                handle.write(','.join(map(str, features))+',0\\n')\n",
    "        \n",
    "        with open('D:\\\\Arpit College\\\\FYP\\\\SignatureVerificationSystem\\\\Data\\\\Features\\\\Testing/testing_'+per+'.csv', 'w') as handle:\n",
    "            handle.write('ratio,cent_y,cent_x,eccentricity,solidity,skew_x,skew_y,kurt_x,kurt_y,output\\n')\n",
    "            # Testing set\n",
    "            for i in range(3, 5):\n",
    "                source = os.path.join(gpath, per+per+'_00'+str(i)+'.png')\n",
    "                features = getCSVFeatures(path=source)\n",
    "                handle.write(','.join(map(str, features))+',1\\n')\n",
    "            for i in range(3,5):\n",
    "                source = os.path.join(fpath, '021'+per+'_00'+str(i)+'.png')\n",
    "                features = getCSVFeatures(path=source)\n",
    "                handle.write(','.join(map(str, features))+',0\\n')"
   ]
  },
  {
   "cell_type": "code",
   "execution_count": 32,
   "metadata": {},
   "outputs": [
    {
     "name": "stdout",
     "output_type": "stream",
     "text": [
      "Saving features for person id- 001\n",
      "Saving features for person id- 002\n",
      "Saving features for person id- 003\n",
      "Saving features for person id- 004\n",
      "Saving features for person id- 005\n",
      "Saving features for person id- 006\n",
      "Saving features for person id- 007\n",
      "Saving features for person id- 008\n",
      "Saving features for person id- 009\n",
      "Saving features for person id- 010\n",
      "Saving features for person id- 011\n",
      "Saving features for person id- 012\n",
      "Saving features for person id- 013\n",
      "Saving features for person id- 014\n"
     ]
    }
   ],
   "source": [
    "makeCSV()"
   ]
  },
  {
   "cell_type": "markdown",
   "metadata": {},
   "source": [
    "# TF Model "
   ]
  },
  {
   "cell_type": "code",
   "execution_count": 40,
   "metadata": {
    "collapsed": true
   },
   "outputs": [],
   "source": [
    "def testing(path):\n",
    "    feature = getCSVFeatures(path)\n",
    "    if not(os.path.exists('D:\\\\Arpit College\\\\FYP\\\\SignatureVerificationSystem\\\\Data\\\\TestFeatures')):\n",
    "        os.mkdir('D:\\\\Arpit College\\\\FYP\\\\SignatureVerificationSystem\\\\Data\\\\TestFeatures')\n",
    "    with open('D:\\\\Arpit College\\\\FYP\\\\SignatureVerificationSystem\\\\Data\\\\TestFeatures/testcsv.csv', 'w') as handle:\n",
    "        handle.write('ratio,cent_y,cent_x,eccentricity,solidity,skew_x,skew_y,kurt_x,kurt_y\\n')\n",
    "        handle.write(','.join(map(str, feature))+'\\n')"
   ]
  },
  {
   "cell_type": "code",
   "execution_count": 41,
   "metadata": {},
   "outputs": [],
   "source": [
    "n_input = 9\n",
    "train_person_id = input(\"Enter person's id : \")\n",
    "test_image_path = input(\"Enter path of signature image : \")\n",
    "train_path = 'D:\\\\Arpit College\\\\FYP\\\\SignatureVerificationSystem\\\\Data\\\\Features\\\\Training/training_'+train_person_id+'.csv'\n",
    "testing(test_image_path)\n",
    "test_path = 'D:\\\\Arpit College\\\\FYP\\\\SignatureVerificationSystem\\\\Data\\\\TestFeatures/testcsv.csv'\n",
    "\n",
    "def readCSV(train_path, test_path, type2=False):\n",
    "    # Reading train data\n",
    "    df = pd.read_csv(train_path, usecols=range(n_input))\n",
    "    train_input = np.array(df.values)\n",
    "    train_input = train_input.astype(np.float32, copy=False)  # Converting input to float_32\n",
    "    df = pd.read_csv(train_path, usecols=(n_input,))\n",
    "    temp = [elem[0] for elem in df.values]\n",
    "    correct = np.array(temp)\n",
    "    corr_train = keras.utils.to_categorical(correct,2)      # Converting to one hot\n",
    "    # Reading test data\n",
    "    df = pd.read_csv(test_path, usecols=range(n_input))\n",
    "    test_input = np.array(df.values)\n",
    "    test_input = test_input.astype(np.float32, copy=False)\n",
    "    if not(type2):\n",
    "        df = pd.read_csv(test_path, usecols=range(n_input))\n",
    "        temp = [elem[0] for elem in df.values]\n",
    "        correct = np.array(temp)\n",
    "        corr_test = keras.utils.to_categorical(correct,2)      # Converting to one hot\n",
    "    if not(type2):\n",
    "        return train_input, corr_train, test_input, corr_test\n",
    "    else:\n",
    "        return train_input, corr_train, test_input\n",
    "\n",
    "tf.reset_default_graph()\n",
    "# Parameters\n",
    "learning_rate = 0.001\n",
    "training_epochs = 10000\n",
    "display_step = 1\n",
    "\n",
    "\n",
    "# Network Parameters\n",
    "n_hidden_1 = 7 # 1st layer number of neurons\n",
    "n_hidden_2 = 13 # 2nd layer number of neurons\n",
    "# n_hidden_3 = 13 # 3rd layer\n",
    "n_classes = 2 # no. of classes (genuine or forged)\n",
    "\n",
    "# tf Graph input\n",
    "X = tf.placeholder(\"float\", [None, n_input])\n",
    "Y = tf.placeholder(\"float\", [None, n_classes])\n",
    "\n",
    "# Store layers weight & bias\n",
    "weights = {\n",
    "    'h1': tf.Variable(tf.random_normal([n_input, n_hidden_1], seed=1)),\n",
    "    'h2': tf.Variable(tf.random_normal([n_hidden_1, n_hidden_2],seed=2)),\n",
    "    # 'h3': tf.Variable(tf.random_normal([n_hidden_2, n_hidden_3], seed=1)),\n",
    "    'out': tf.Variable(tf.random_normal([n_hidden_2, n_classes], seed=2))\n",
    "}\n",
    "biases = {\n",
    "    'b1': tf.Variable(tf.random_normal([n_hidden_1], seed=1)),\n",
    "    'b2': tf.Variable(tf.random_normal([n_hidden_2], seed=2)),\n",
    "    # 'b3': tf.Variable(tf.random_normal([n_hidden_3], seed=2)),\n",
    "    'out': tf.Variable(tf.random_normal([n_classes], seed=1))\n",
    "}\n",
    "\n",
    "\n",
    "# Create model\n",
    "def multilayer_perceptron(x):\n",
    "    layer_1 = tf.tanh((tf.matmul(x, weights['h1']) + biases['b1']))\n",
    "    layer_2 = tf.add(tf.matmul(layer_1, weights['h2']), biases['b2'])\n",
    "    # layer_3 = tf.add(tf.matmul(layer_2, weights['h3']), biases['b3'])\n",
    "    out_layer = tf.tanh(tf.matmul(layer_2, weights['out']) + biases['out'])\n",
    "    return out_layer\n",
    "\n",
    "# Construct model\n",
    "logits = multilayer_perceptron(X)\n",
    "\n",
    "# Define loss and optimizer\n",
    "\n",
    "loss_op = tf.reduce_mean(tf.squared_difference(logits, Y))\n",
    "optimizer = tf.train.AdamOptimizer(learning_rate=learning_rate)\n",
    "train_op = optimizer.minimize(loss_op)\n",
    "# For accuracies\n",
    "pred = tf.nn.softmax(logits)  # Apply softmax to logits\n",
    "correct_prediction = tf.equal(tf.argmax(pred,1), tf.argmax(Y,1))\n",
    "accuracy = tf.reduce_mean(tf.cast(correct_prediction, tf.float32))\n",
    "\n",
    "# Initializing the variables\n",
    "init = tf.global_variables_initializer()\n",
    "\n",
    "def evaluate(train_path, test_path, type2=False):   \n",
    "    if not(type2):\n",
    "        train_input, corr_train, test_input, corr_test = readCSV(train_path, test_path)\n",
    "    else:\n",
    "        train_input, corr_train, test_input = readCSV(train_path, test_path, type2)\n",
    "    ans = 'Random'\n",
    "    costs=[]\n",
    "\n",
    "    with tf.Session() as sess:\n",
    "        sess.run(init)\n",
    "        # Training cycle\n",
    "        for epoch in range(training_epochs):\n",
    "\n",
    "            # Run optimization op (backprop) and cost op (to get loss value)\n",
    "            _, cost = sess.run([train_op, loss_op], feed_dict={X: train_input, Y: corr_train})\n",
    "            costs.append(cost)\n",
    "\n",
    "            # if epoch==training_epochs-1:\n",
    "            #     print (epoch , cost)\n",
    "\n",
    "            if epoch%100==0:\n",
    "                print(epoch , cost)\n",
    "            elif epoch==training_epochs-1:\n",
    "                print(epoch , cost)\n",
    "\n",
    "            if cost<0.0001:\n",
    "                break\n",
    "#             # Display logs per epoch step\n",
    "        #     if epoch % 999 == 0:\n",
    "        #         print(\"Epoch:\", '%04d' % (epoch+1), \"cost={:.9f}\".format(cost))\n",
    "        print(\"Optimization Finished!\")\n",
    "\n",
    "         # Plot the cost values\n",
    "        plt.plot(costs)\n",
    "        plt.xlabel('Epoch')\n",
    "        plt.ylabel('Cost')\n",
    "        plt.title('Cost vs. Epoch')\n",
    "        plt.show()\n",
    "\n",
    "\n",
    "        # Finding accuracies\n",
    "        accuracy1 =  accuracy.eval({X: train_input, Y: corr_train})\n",
    "        print(\"Accuracy for train:\", accuracy1)\n",
    "        \n",
    "        if type2 is False:\n",
    "            accuracy2 =  accuracy.eval({X: test_input, Y: corr_test})   \n",
    "\n",
    "            return accuracy1, accuracy2\n",
    "            \n",
    "        else:\n",
    "            prediction = pred.eval({X: test_input})\n",
    "            if prediction[0][1]>prediction[0][0]:\n",
    "                print('Genuine Image')\n",
    "                return True\n",
    "            else:\n",
    "                print('Forged Image')\n",
    "                return False\n",
    "\n",
    "\n",
    "def trainAndTest(rate=0.001, epochs=10000, neurons=7, display=False):    \n",
    "    start = time()\n",
    "\n",
    "    # Parameters\n",
    "    global training_rate, training_epochs, n_hidden_1\n",
    "    learning_rate = rate\n",
    "    training_epochs = epochs\n",
    "\n",
    "    # Network Parameters\n",
    "    n_hidden_1 = neurons # 1st layer number of neurons\n",
    "    n_hidden_2 = 13 # 2nd layer number of neurons\n",
    "\n",
    "    train_avg, test_avg = 0, 0\n",
    "    n = 14\n",
    "    for i in range(1,n+1):\n",
    "        if display:\n",
    "            print(\"Running for Person id\",i)\n",
    "        temp = ('0'+str(i))[-2:]\n",
    "        train_score, test_score = evaluate(train_path.replace('01',temp), test_path.replace('01',temp))\n",
    "        train_avg += train_score\n",
    "        test_avg += test_score\n",
    "    if display:\n",
    "        print(\"Number of neurons in Hidden layer-\", n_hidden_1)\n",
    "        print(\"Number of neurons in Hidden layer-\", n_hidden_2)\n",
    "        print(\"Training average-\", train_avg/n)\n",
    "        print(\"Testing average-\", test_avg/n)\n",
    "        print(\"Time taken-\", time()-start)\n",
    "        print(\"Learning rate- \", learning_rate)\n",
    "    return train_avg/n, test_avg/n, (time()-start)/n\n",
    "\n",
    "# trainAndTest(display=True)\n",
    "\n",
    "\n"
   ]
  },
  {
   "cell_type": "code",
   "execution_count": null,
   "metadata": {
    "collapsed": true
   },
   "outputs": [],
   "source": [
    "evaluate(train_path, test_path, type2=True)"
   ]
  },
  {
   "cell_type": "code",
   "execution_count": 42,
   "metadata": {
    "collapsed": true
   },
   "outputs": [
    {
     "name": "stdout",
     "output_type": "stream",
     "text": [
      "Running for Person id 1\n",
      "0 0.49950442\n",
      "100 0.2322536\n",
      "200 0.02678431\n",
      "300 0.010584029\n",
      "400 0.008112325\n",
      "500 0.006744432\n",
      "600 0.005702892\n",
      "700 0.004884756\n",
      "800 0.0042366316\n",
      "900 0.0037049807\n",
      "1000 0.003237272\n",
      "1100 0.002786192\n",
      "1200 0.0023233816\n",
      "1300 0.001857751\n",
      "1400 0.0014214962\n",
      "1500 0.0010380907\n",
      "1600 0.00072348764\n",
      "1700 0.00048760197\n",
      "1800 0.00032707068\n",
      "1900 0.0002256658\n",
      "2000 0.00016258\n",
      "2100 0.00012287473\n",
      "Optimization Finished!\n"
     ]
    },
    {
     "data": {
      "image/png": "[encoded data removed]",
      "text/plain": [
       "<Figure size 432x288 with 1 Axes>"
      ]
     },
     "metadata": {
      "needs_background": "light"
     },
     "output_type": "display_data"
    },
    {
     "name": "stdout",
     "output_type": "stream",
     "text": [
      "Accuracy for train: 1.0\n",
      "Running for Person id 2\n",
      "0 1.4916519\n",
      "100 0.49060705\n",
      "200 0.45513877\n",
      "300 0.31247818\n",
      "400 0.256056\n",
      "500 0.21477239\n",
      "600 0.13731167\n",
      "700 0.059877127\n",
      "800 0.036207706\n",
      "900 0.025622362\n",
      "1000 0.020339532\n",
      "1100 0.017107612\n",
      "1200 0.014697577\n",
      "1300 0.012648046\n",
      "1400 0.010777245\n",
      "1500 0.009026808\n",
      "1600 0.007402519\n",
      "1700 0.0059427437\n",
      "1800 0.00469729\n",
      "1900 0.0036808082\n",
      "2000 0.0028774685\n",
      "2100 0.0022998976\n",
      "2200 0.0017934538\n",
      "2300 0.0014418621\n",
      "2400 0.0012132389\n",
      "2500 0.00097431656\n",
      "2600 0.00082898774\n",
      "2700 0.0006957178\n",
      "2800 0.0005998611\n",
      "2900 0.0005190574\n",
      "3000 0.00045521607\n",
      "3100 0.00040155207\n",
      "3200 0.00035772318\n",
      "3300 0.0003198937\n",
      "3400 0.00028858802\n",
      "3500 0.0002600969\n",
      "3600 0.0002649937\n",
      "3700 0.00021531335\n",
      "3800 0.00020144123\n",
      "3900 0.00018070155\n",
      "4000 0.00016680598\n",
      "4100 0.0001534649\n",
      "4200 0.00014217598\n",
      "4300 0.00013171534\n",
      "4400 0.00012527198\n",
      "4500 0.00011393327\n",
      "4600 0.000110962545\n",
      "Optimization Finished!\n"
     ]
    },
    {
     "data": {
      "image/png": "[encoded data removed]",
      "text/plain": [
       "<Figure size 432x288 with 1 Axes>"
      ]
     },
     "metadata": {
      "needs_background": "light"
     },
     "output_type": "display_data"
    },
    {
     "name": "stdout",
     "output_type": "stream",
     "text": [
      "Accuracy for train: 1.0\n",
      "Running for Person id 3\n",
      "0 1.4875083\n",
      "100 0.67253953\n",
      "200 0.49769703\n",
      "300 0.48428047\n",
      "400 0.46465588\n",
      "500 0.33971548\n",
      "600 0.2508178\n",
      "700 0.25058684\n",
      "800 0.25044948\n",
      "900 0.25035444\n",
      "1000 0.25028613\n",
      "1100 0.25023547\n",
      "1200 0.25019684\n",
      "1300 0.25016677\n",
      "1400 0.25014287\n",
      "1500 0.2501236\n",
      "1600 0.2501078\n",
      "1700 0.2500947\n",
      "1800 0.25008374\n",
      "1900 0.25007448\n",
      "2000 0.25006655\n",
      "2100 0.25005972\n",
      "2200 0.2500538\n",
      "2300 0.25004867\n",
      "2400 0.25004417\n",
      "2500 0.2500402\n",
      "2600 0.2500367\n",
      "2700 0.25003353\n",
      "2800 0.25003076\n",
      "2900 0.25002825\n",
      "3000 0.25002602\n",
      "3100 0.250024\n",
      "3200 0.25002214\n",
      "3300 0.2500205\n",
      "3400 0.25001898\n",
      "3500 0.2500176\n",
      "3600 0.25001636\n",
      "3700 0.2500152\n",
      "3800 0.25001416\n",
      "3900 0.2500132\n",
      "4000 0.2500123\n",
      "4100 0.25001147\n",
      "4200 0.25001073\n",
      "4300 0.25001\n",
      "4400 0.2500094\n",
      "4500 0.2500088\n",
      "4600 0.25000823\n",
      "4700 0.25000772\n",
      "4800 0.25000724\n",
      "4900 0.25000677\n",
      "5000 0.25000635\n",
      "5100 0.250006\n",
      "5200 0.25000563\n",
      "5300 0.25000528\n",
      "5400 0.25000498\n",
      "5500 0.25000468\n",
      "5600 0.25000438\n",
      "5700 0.25000414\n",
      "5800 0.2500039\n",
      "5900 0.25000417\n",
      "6000 0.2500035\n",
      "6100 0.25000328\n",
      "6200 0.2500031\n",
      "6300 0.25000295\n",
      "6400 0.25000277\n",
      "6500 0.2500027\n",
      "6600 0.25000253\n",
      "6700 0.25002286\n",
      "6800 0.2500023\n",
      "6900 0.25000724\n",
      "7000 0.25000206\n",
      "7100 0.25000286\n",
      "7200 0.2500019\n",
      "7300 0.25000212\n",
      "7400 0.25000176\n",
      "7500 0.2500132\n",
      "7600 0.2500016\n",
      "7700 0.25000158\n",
      "7800 0.2500015\n",
      "7900 0.25000143\n",
      "8000 0.2500014\n",
      "8100 0.25000134\n",
      "8200 0.2500029\n",
      "8300 0.25000122\n",
      "8400 0.25000188\n",
      "8500 0.25000116\n",
      "8600 0.2500027\n",
      "8700 0.2500011\n",
      "8800 0.25000116\n",
      "8900 0.250001\n",
      "9000 0.250001\n",
      "9100 0.25000095\n",
      "9200 0.25000092\n",
      "9300 0.2500009\n",
      "9400 0.25000098\n",
      "9500 0.25000086\n",
      "9600 0.2500008\n",
      "9700 0.2500009\n",
      "9800 0.25000077\n",
      "9900 0.25000075\n",
      "9999 0.25000092\n",
      "Optimization Finished!\n"
     ]
    },
    {
     "data": {
      "image/png": "[encoded data removed]",
      "text/plain": [
       "<Figure size 432x288 with 1 Axes>"
      ]
     },
     "metadata": {
      "needs_background": "light"
     },
     "output_type": "display_data"
    },
    {
     "name": "stdout",
     "output_type": "stream",
     "text": [
      "Accuracy for train: 0.5\n",
      "Running for Person id 4\n",
      "0 1.2148644\n",
      "100 0.47103587\n",
      "200 0.18955858\n",
      "300 0.17233343\n",
      "400 0.16735812\n",
      "500 0.16446179\n",
      "600 0.12962146\n",
      "700 0.07776145\n",
      "800 0.017786829\n",
      "900 0.004834614\n",
      "1000 0.0017092625\n",
      "1100 0.0009382674\n",
      "1200 0.00063167285\n",
      "1300 0.0004653102\n",
      "1400 0.00036051372\n",
      "1500 0.00028879146\n",
      "1600 0.00023700645\n",
      "1700 0.00019816327\n",
      "1800 0.00016816093\n",
      "1900 0.0001444453\n",
      "2000 0.00012533758\n",
      "2100 0.000109691995\n",
      "Optimization Finished!\n"
     ]
    },
    {
     "data": {
      "image/png": "[encoded data removed]",
      "text/plain": [
       "<Figure size 432x288 with 1 Axes>"
      ]
     },
     "metadata": {
      "needs_background": "light"
     },
     "output_type": "display_data"
    },
    {
     "name": "stdout",
     "output_type": "stream",
     "text": [
      "Accuracy for train: 1.0\n",
      "Running for Person id 5\n",
      "0 1.4097213\n",
      "100 0.4180385\n",
      "200 0.40976298\n",
      "300 0.32707533\n",
      "400 0.16953933\n",
      "500 0.1672585\n",
      "600 0.16659428\n",
      "700 0.16584548\n",
      "800 0.16424526\n",
      "900 0.12922508\n",
      "1000 0.005537232\n",
      "1100 0.00062286673\n",
      "1200 0.00022964615\n",
      "1300 0.00013636482\n",
      "Optimization Finished!\n"
     ]
    },
    {
     "data": {
      "image/png": "[encoded data removed]",
      "text/plain": [
       "<Figure size 432x288 with 1 Axes>"
      ]
     },
     "metadata": {
      "needs_background": "light"
     },
     "output_type": "display_data"
    },
    {
     "name": "stdout",
     "output_type": "stream",
     "text": [
      "Accuracy for train: 1.0\n",
      "Running for Person id 6\n",
      "0 0.47148323\n",
      "100 0.32189968\n",
      "200 0.26781887\n",
      "300 0.07662535\n",
      "400 0.05598791\n",
      "500 0.02390278\n",
      "600 0.00921864\n",
      "700 0.004788849\n",
      "800 0.0026128518\n",
      "900 0.0015272595\n",
      "1000 0.00097277324\n",
      "1100 0.00066914177\n",
      "1200 0.0004888756\n",
      "1300 0.0003737997\n",
      "1400 0.00029682103\n",
      "1500 0.00024257977\n",
      "1600 0.00024438687\n",
      "1700 0.00017259881\n",
      "1800 0.00014979\n",
      "1900 0.00013053493\n",
      "2000 0.0001156992\n",
      "2100 0.0001028179\n",
      "Optimization Finished!\n"
     ]
    },
    {
     "data": {
      "image/png": "[encoded data removed]",
      "text/plain": [
       "<Figure size 432x288 with 1 Axes>"
      ]
     },
     "metadata": {
      "needs_background": "light"
     },
     "output_type": "display_data"
    },
    {
     "name": "stdout",
     "output_type": "stream",
     "text": [
      "Accuracy for train: 1.0\n",
      "Running for Person id 7\n",
      "0 0.4968125\n",
      "100 0.17832892\n",
      "200 0.16167475\n",
      "300 0.14672583\n",
      "400 0.1384957\n",
      "500 0.13101333\n",
      "600 0.11423396\n",
      "700 0.08824142\n",
      "800 0.061629925\n",
      "900 0.03671741\n",
      "1000 0.018909192\n",
      "1100 0.010264826\n",
      "1200 0.0060846563\n",
      "1300 0.0039440426\n",
      "1400 0.002742978\n",
      "1500 0.002027777\n",
      "1600 0.0015718341\n",
      "1700 0.0012488316\n",
      "1800 0.0010247839\n",
      "1900 0.0008588848\n",
      "2000 0.00074451807\n",
      "2100 0.0006302562\n",
      "2200 0.00055056735\n",
      "2300 0.00048483373\n",
      "2400 0.00043082735\n",
      "2500 0.0003853468\n",
      "2600 0.00034708707\n",
      "2700 0.00034025512\n",
      "2800 0.00028588413\n",
      "2900 0.0002794217\n",
      "3000 0.00023936969\n",
      "3100 0.0002273845\n",
      "3200 0.00020318119\n",
      "3300 0.00019184977\n",
      "3400 0.00017448759\n",
      "3500 0.00016264002\n",
      "3600 0.00015124056\n",
      "3700 0.00015028009\n",
      "3800 0.00013207164\n",
      "3900 0.00012427922\n",
      "4000 0.00011629512\n",
      "4100 0.00010996143\n",
      "4200 0.00010287605\n",
      "Optimization Finished!\n"
     ]
    },
    {
     "data": {
      "image/png": "[encoded data removed]",
      "text/plain": [
       "<Figure size 432x288 with 1 Axes>"
      ]
     },
     "metadata": {
      "needs_background": "light"
     },
     "output_type": "display_data"
    },
    {
     "name": "stdout",
     "output_type": "stream",
     "text": [
      "Accuracy for train: 1.0\n",
      "Running for Person id 8\n",
      "0 0.4986595\n",
      "100 0.28337717\n",
      "200 0.19057971\n",
      "300 0.1567992\n",
      "400 0.14216287\n",
      "500 0.102198154\n",
      "600 0.05699333\n",
      "700 0.030910244\n",
      "800 0.016636578\n",
      "900 0.009843251\n",
      "1000 0.006643858\n",
      "1100 0.004946941\n",
      "1200 0.003926517\n",
      "1300 0.0032308295\n",
      "1400 0.002707234\n",
      "1500 0.0022900582\n",
      "1600 0.0019364449\n",
      "1700 0.0016749259\n",
      "1800 0.0013618263\n",
      "1900 0.0011402894\n",
      "2000 0.00091694255\n",
      "2100 0.00076867145\n",
      "2200 0.0006041449\n",
      "2300 0.0005127454\n",
      "2400 0.00040798905\n",
      "2500 0.00034266105\n",
      "2600 0.00032486735\n",
      "2700 0.0002517292\n",
      "2800 0.00022002113\n",
      "2900 0.00019503808\n",
      "3000 0.00018400636\n",
      "3100 0.0001590349\n",
      "3200 0.00014056574\n",
      "3300 0.0001290444\n",
      "3400 0.00014139785\n",
      "3500 0.000107412336\n",
      "Optimization Finished!\n"
     ]
    },
    {
     "data": {
      "image/png": "[encoded data removed]",
      "text/plain": [
       "<Figure size 432x288 with 1 Axes>"
      ]
     },
     "metadata": {
      "needs_background": "light"
     },
     "output_type": "display_data"
    },
    {
     "name": "stdout",
     "output_type": "stream",
     "text": [
      "Accuracy for train: 1.0\n",
      "Running for Person id 9\n",
      "0 0.76379377\n",
      "100 0.41272464\n",
      "200 0.21273129\n",
      "300 0.1460345\n",
      "400 0.11148315\n",
      "500 0.073913775\n",
      "600 0.049197033\n",
      "700 0.03506252\n",
      "800 0.024510846\n",
      "900 0.016494734\n",
      "1000 0.010867324\n",
      "1100 0.007198145\n",
      "1200 0.004899327\n",
      "1300 0.0034627991\n",
      "1400 0.0025439432\n",
      "1500 0.001935064\n",
      "1600 0.0015161168\n",
      "1700 0.0012182944\n",
      "1800 0.0010061929\n",
      "1900 0.0008458399\n",
      "2000 0.0007228241\n",
      "2100 0.0006273983\n",
      "2200 0.0005500513\n",
      "2300 0.0004870732\n",
      "2400 0.00043447837\n",
      "2500 0.00039120144\n",
      "2600 0.0003528264\n",
      "2700 0.00032084345\n",
      "2800 0.00029287537\n",
      "2900 0.00026899565\n",
      "3000 0.0002472783\n",
      "3100 0.00022913101\n",
      "3200 0.00021152501\n",
      "3300 0.00019738066\n",
      "3400 0.00018298562\n",
      "3500 0.00017697764\n",
      "3600 0.00015969225\n",
      "3700 0.00015456967\n",
      "3800 0.00014053774\n",
      "3900 0.00015746983\n",
      "4000 0.00012454922\n",
      "4100 0.00019140785\n",
      "4200 0.00011101397\n",
      "4300 0.00026307325\n",
      "Optimization Finished!\n"
     ]
    },
    {
     "data": {
      "image/png": "[encoded data removed]",
      "text/plain": [
       "<Figure size 432x288 with 1 Axes>"
      ]
     },
     "metadata": {
      "needs_background": "light"
     },
     "output_type": "display_data"
    },
    {
     "name": "stdout",
     "output_type": "stream",
     "text": [
      "Accuracy for train: 1.0\n",
      "Running for Person id 10\n",
      "0 1.1004864\n",
      "100 0.314432\n",
      "200 0.120261036\n",
      "300 0.073424526\n",
      "400 0.03539073\n",
      "500 0.023350127\n",
      "600 0.016750038\n",
      "700 0.012590063\n",
      "800 0.00983243\n",
      "900 0.007977611\n",
      "1000 0.0067110793\n",
      "1100 0.0057974868\n",
      "1200 0.0050838673\n",
      "1300 0.0044844057\n",
      "1400 0.0039549177\n",
      "1500 0.0034736767\n",
      "1600 0.0030310228\n",
      "1700 0.0026233925\n",
      "1800 0.0022503517\n",
      "1900 0.0019127581\n",
      "2000 0.0016114265\n",
      "2100 0.0013465919\n",
      "2200 0.0011176234\n",
      "2300 0.0009227195\n",
      "2400 0.000759311\n",
      "2500 0.00062410027\n",
      "2600 0.0005134549\n",
      "2700 0.00042364644\n",
      "2800 0.00035116382\n",
      "2900 0.00029279917\n",
      "3000 0.0002458277\n",
      "3100 0.00020791474\n",
      "3200 0.00017717863\n",
      "3300 0.00015212316\n",
      "3400 0.00013155404\n",
      "3500 0.00011544739\n",
      "3600 0.00010050082\n",
      "Optimization Finished!\n"
     ]
    },
    {
     "data": {
      "image/png": "[encoded data removed]",
      "text/plain": [
       "<Figure size 432x288 with 1 Axes>"
      ]
     },
     "metadata": {
      "needs_background": "light"
     },
     "output_type": "display_data"
    },
    {
     "name": "stdout",
     "output_type": "stream",
     "text": [
      "Accuracy for train: 1.0\n",
      "Running for Person id 11\n",
      "0 1.2577846\n",
      "100 0.46248913\n",
      "200 0.43301845\n",
      "300 0.26717213\n",
      "400 0.25611785\n",
      "500 0.2542096\n",
      "600 0.2528712\n",
      "700 0.2519796\n",
      "800 0.25140557\n",
      "900 0.25103474\n",
      "1000 0.25078866\n",
      "1100 0.25061938\n",
      "1200 0.25049874\n",
      "1300 0.25041\n",
      "1400 0.25034282\n",
      "1500 0.25029078\n",
      "1600 0.25024965\n",
      "1700 0.25021657\n",
      "1800 0.25018945\n",
      "1900 0.250167\n",
      "2000 0.2501482\n",
      "2100 0.2501323\n",
      "2200 0.2501187\n",
      "2300 0.25010702\n",
      "2400 0.25009683\n",
      "2500 0.25008795\n",
      "2600 0.25008014\n",
      "2700 0.25007322\n",
      "2800 0.25006709\n",
      "2900 0.25006166\n",
      "3000 0.25005677\n",
      "3100 0.25005233\n",
      "3200 0.25004837\n",
      "3300 0.2500447\n",
      "3400 0.25004146\n",
      "3500 0.25003847\n",
      "3600 0.25003573\n",
      "3700 0.25003323\n",
      "3800 0.25003096\n",
      "3900 0.25002885\n",
      "4000 0.2500269\n",
      "4100 0.25002515\n",
      "4200 0.25002348\n",
      "4300 0.25002196\n",
      "4400 0.2500205\n",
      "4500 0.25001922\n",
      "4600 0.25001797\n",
      "4700 0.25001678\n",
      "4800 0.25001577\n",
      "4900 0.25001475\n",
      "5000 0.25001386\n",
      "5100 0.2500129\n",
      "5200 0.25001207\n",
      "5300 0.25001135\n",
      "5400 0.2500106\n",
      "5500 0.25000992\n",
      "5600 0.25000927\n",
      "5700 0.2500086\n",
      "5800 0.25000814\n",
      "5900 0.25000837\n",
      "6000 0.25000712\n",
      "6100 0.25000677\n",
      "6200 0.2500063\n",
      "6300 0.25000587\n",
      "6400 0.2500058\n",
      "6500 0.25000516\n",
      "6600 0.2500049\n",
      "6700 0.25000545\n",
      "6800 0.2500042\n",
      "6900 0.25000468\n",
      "7000 0.25000373\n",
      "7100 0.25000343\n",
      "7200 0.25000322\n",
      "7300 0.25000298\n",
      "7400 0.25000277\n",
      "7500 0.25000247\n",
      "7600 0.25000525\n",
      "7700 0.25000203\n",
      "7800 0.2500026\n",
      "7900 0.25000152\n",
      "8000 0.25000128\n",
      "8100 0.25000098\n",
      "8200 0.25000075\n",
      "8300 0.25000042\n",
      "8400 0.25000015\n",
      "8500 0.24999969\n",
      "8600 0.24999921\n",
      "8700 0.25000218\n",
      "8800 0.2499979\n",
      "8900 0.24999695\n",
      "9000 0.24999559\n",
      "9100 0.24999337\n",
      "9200 0.24999328\n",
      "9300 0.24997902\n",
      "9400 0.24991627\n",
      "9500 0.08559415\n",
      "9600 0.08395449\n",
      "9700 0.083692126\n",
      "9800 0.08357822\n",
      "9900 0.08351534\n",
      "9999 0.0834761\n",
      "Optimization Finished!\n"
     ]
    },
    {
     "data": {
      "image/png": "[encoded data removed]",
      "text/plain": [
       "<Figure size 432x288 with 1 Axes>"
      ]
     },
     "metadata": {
      "needs_background": "light"
     },
     "output_type": "display_data"
    },
    {
     "name": "stdout",
     "output_type": "stream",
     "text": [
      "Accuracy for train: 0.8333333\n",
      "Running for Person id 12\n",
      "0 1.4925343\n",
      "100 0.49679825\n",
      "200 0.48009148\n",
      "300 0.4366977\n",
      "400 0.3050352\n",
      "500 0.24014775\n",
      "600 0.21374531\n",
      "700 0.18323588\n",
      "800 0.17201893\n",
      "900 0.16803254\n",
      "1000 0.16444112\n",
      "1100 0.015931351\n",
      "1200 0.0015760978\n",
      "1300 0.0007728048\n",
      "1400 0.0004958474\n",
      "1500 0.0003575474\n",
      "1600 0.0002749884\n",
      "1700 0.00022033737\n",
      "1800 0.00018163149\n",
      "1900 0.00015288244\n",
      "2000 0.00013075648\n",
      "2100 0.00011325389\n",
      "Optimization Finished!\n"
     ]
    },
    {
     "data": {
      "image/png": "[encoded data removed]",
      "text/plain": [
       "<Figure size 432x288 with 1 Axes>"
      ]
     },
     "metadata": {
      "needs_background": "light"
     },
     "output_type": "display_data"
    },
    {
     "name": "stdout",
     "output_type": "stream",
     "text": [
      "Accuracy for train: 1.0\n",
      "Running for Person id 13\n",
      "0 1.4176031\n",
      "100 0.5002175\n",
      "200 0.50015515\n",
      "300 0.4984068\n",
      "400 0.26776686\n",
      "500 0.26485398\n",
      "600 0.26200333\n",
      "700 0.25993183\n",
      "800 0.2583982\n",
      "900 0.25704458\n",
      "1000 0.25581887\n",
      "1100 0.2547417\n",
      "1200 0.25382015\n",
      "1300 0.25304782\n",
      "1400 0.2524118\n",
      "1500 0.2518972\n",
      "1600 0.2514877\n",
      "1700 0.25116682\n",
      "1800 0.25091827\n",
      "1900 0.25072727\n",
      "2000 0.25058106\n",
      "2100 0.25046888\n",
      "2200 0.25038376\n",
      "2300 0.25031927\n",
      "2400 0.25026724\n",
      "2500 0.2502271\n",
      "2600 0.250196\n",
      "2700 0.2501687\n",
      "2800 0.2501491\n",
      "2900 0.25012934\n",
      "3000 0.25011435\n",
      "3100 0.25012842\n",
      "3200 0.25009096\n",
      "3300 0.25008276\n",
      "3400 0.25007346\n",
      "3500 0.25006795\n",
      "3600 0.2500602\n",
      "3700 0.25005493\n",
      "3800 0.2500502\n",
      "3900 0.25004563\n",
      "4000 0.25005022\n",
      "4100 0.25003842\n",
      "4200 0.25003895\n",
      "4300 0.25003254\n",
      "4400 0.25003004\n",
      "4500 0.25004724\n",
      "4600 0.2500258\n",
      "4700 0.25002396\n",
      "4800 0.25002232\n",
      "4900 0.25002083\n",
      "5000 0.25002477\n",
      "5100 0.25001815\n",
      "5200 0.2500176\n",
      "5300 0.250016\n",
      "5400 0.25001523\n",
      "5500 0.25001422\n",
      "5600 0.25001344\n",
      "5700 0.2500126\n",
      "5800 0.250012\n",
      "5900 0.2500113\n",
      "6000 0.25001076\n",
      "6100 0.25005576\n",
      "6200 0.25000966\n",
      "6300 0.25000986\n",
      "6400 0.2500087\n",
      "6500 0.25004706\n",
      "6600 0.25000793\n",
      "6700 0.25006497\n",
      "6800 0.25000718\n",
      "6900 0.25000942\n",
      "7000 0.25000656\n",
      "7100 0.2500063\n",
      "7200 0.25000608\n",
      "7300 0.25000575\n",
      "7400 0.2500055\n",
      "7500 0.25000533\n",
      "7600 0.25000507\n",
      "7700 0.25001025\n",
      "7800 0.25000468\n",
      "7900 0.25000712\n",
      "8000 0.25000432\n",
      "8100 0.25000417\n",
      "8200 0.25000402\n",
      "8300 0.2500082\n",
      "8400 0.25000373\n",
      "8500 0.25011563\n",
      "8600 0.25000346\n",
      "8700 0.25000334\n",
      "8800 0.25000337\n",
      "8900 0.25000313\n",
      "9000 0.2500031\n",
      "9100 0.25000548\n",
      "9200 0.25000283\n",
      "9300 0.25000468\n",
      "9400 0.25000265\n",
      "9500 0.2500093\n",
      "9600 0.25000247\n",
      "9700 0.2500033\n",
      "9800 0.25000235\n",
      "9900 0.25000247\n",
      "9999 0.25000224\n",
      "Optimization Finished!\n"
     ]
    },
    {
     "data": {
      "image/png": "[encoded data removed]",
      "text/plain": [
       "<Figure size 432x288 with 1 Axes>"
      ]
     },
     "metadata": {
      "needs_background": "light"
     },
     "output_type": "display_data"
    },
    {
     "name": "stdout",
     "output_type": "stream",
     "text": [
      "Accuracy for train: 0.6666667\n",
      "Running for Person id 14\n",
      "0 0.48943278\n",
      "100 0.35135594\n",
      "200 0.22224398\n",
      "300 0.1456888\n",
      "400 0.097799085\n",
      "500 0.07694656\n",
      "600 0.05611695\n",
      "700 0.03724237\n",
      "800 0.02614828\n",
      "900 0.018643564\n",
      "1000 0.013091409\n",
      "1100 0.008983227\n",
      "1200 0.0060789115\n",
      "1300 0.0041442392\n",
      "1400 0.002899824\n",
      "1500 0.0021316605\n",
      "1600 0.0015942912\n",
      "1700 0.0012493551\n",
      "1800 0.0010086377\n",
      "1900 0.00083854346\n",
      "2000 0.00070470717\n",
      "2100 0.0006033119\n",
      "2200 0.00052428385\n",
      "2300 0.00056926184\n",
      "2400 0.00040790733\n",
      "2500 0.00036460286\n",
      "2600 0.00032791635\n",
      "2700 0.00029746618\n",
      "2800 0.00027039848\n",
      "2900 0.00024801152\n",
      "3000 0.00022786914\n",
      "3100 0.0002109569\n",
      "3200 0.00019495752\n",
      "3300 0.00018236303\n",
      "3400 0.00016901433\n",
      "3500 0.00015914936\n",
      "3600 0.00014804084\n",
      "3700 0.00014086139\n",
      "3800 0.00013111766\n",
      "3900 0.00012588895\n",
      "4000 0.00011706472\n",
      "4100 0.000110823465\n",
      "4200 0.00010836102\n",
      "Optimization Finished!\n"
     ]
    },
    {
     "data": {
      "image/png": "[encoded data removed]",
      "text/plain": [
       "<Figure size 432x288 with 1 Axes>"
      ]
     },
     "metadata": {
      "needs_background": "light"
     },
     "output_type": "display_data"
    },
    {
     "name": "stdout",
     "output_type": "stream",
     "text": [
      "Accuracy for train: 1.0\n",
      "Number of neurons in Hidden layer- 7\n",
      "Number of neurons in Hidden layer- 13\n",
      "Training average- 0.9285714285714286\n",
      "Testing average- 0.5\n",
      "Time taken- 34.40571737289429\n",
      "Learning rate-  0.001\n"
     ]
    },
    {
     "data": {
      "text/plain": [
       "(0.9285714285714286, 0.5, 2.4575512409210205)"
      ]
     },
     "execution_count": 42,
     "metadata": {},
     "output_type": "execute_result"
    }
   ],
   "source": [
    "trainAndTest(display=True)"
   ]
  },
  {
   "cell_type": "code",
   "execution_count": null,
   "metadata": {
    "collapsed": true
   },
   "outputs": [],
   "source": []
  },
  {
   "cell_type": "code",
   "execution_count": null,
   "metadata": {
    "collapsed": true
   },
   "outputs": [],
   "source": []
  },
  {
   "cell_type": "code",
   "execution_count": null,
   "metadata": {
    "collapsed": true
   },
   "outputs": [],
   "source": []
  },
  {
   "cell_type": "code",
   "execution_count": null,
   "metadata": {
    "collapsed": true
   },
   "outputs": [],
   "source": []
  },
  {
   "cell_type": "code",
   "execution_count": null,
   "metadata": {
    "collapsed": true
   },
   "outputs": [],
   "source": []
  },
  {
   "cell_type": "code",
   "execution_count": null,
   "metadata": {
    "collapsed": true
   },
   "outputs": [],
   "source": []
  },
  {
   "cell_type": "code",
   "execution_count": null,
   "metadata": {
    "collapsed": true
   },
   "outputs": [],
   "source": []
  },
  {
   "cell_type": "code",
   "execution_count": null,
   "metadata": {
    "collapsed": true
   },
   "outputs": [],
   "source": []
  },
  {
   "cell_type": "code",
   "execution_count": null,
   "metadata": {
    "collapsed": true
   },
   "outputs": [],
   "source": []
  },
  {
   "cell_type": "code",
   "execution_count": null,
   "metadata": {
    "collapsed": true
   },
   "outputs": [],
   "source": []
  },
  {
   "cell_type": "code",
   "execution_count": null,
   "metadata": {
    "collapsed": true
   },
   "outputs": [],
   "source": []
  },
  {
   "cell_type": "code",
   "execution_count": null,
   "metadata": {
    "collapsed": true
   },
   "outputs": [],
   "source": []
  },
  {
   "cell_type": "code",
   "execution_count": null,
   "metadata": {
    "collapsed": true
   },
   "outputs": [],
   "source": []
  },
  {
   "cell_type": "code",
   "execution_count": null,
   "metadata": {
    "collapsed": true
   },
   "outputs": [],
   "source": []
  },
  {
   "cell_type": "code",
   "execution_count": null,
   "metadata": {
    "collapsed": true
   },
   "outputs": [],
   "source": []
  },
  {
   "cell_type": "code",
   "execution_count": null,
   "metadata": {
    "collapsed": true
   },
   "outputs": [],
   "source": []
  },
  {
   "cell_type": "code",
   "execution_count": null,
   "metadata": {
    "collapsed": true
   },
   "outputs": [],
   "source": []
  },
  {
   "cell_type": "code",
   "execution_count": null,
   "metadata": {
    "collapsed": true
   },
   "outputs": [],
   "source": []
  },
  {
   "cell_type": "code",
   "execution_count": null,
   "metadata": {
    "collapsed": true
   },
   "outputs": [],
   "source": []
  },
  {
   "cell_type": "code",
   "execution_count": null,
   "metadata": {
    "collapsed": true
   },
   "outputs": [],
   "source": []
  },
  {
   "cell_type": "code",
   "execution_count": null,
   "metadata": {
    "collapsed": true
   },
   "outputs": [],
   "source": []
  },
  {
   "cell_type": "code",
   "execution_count": null,
   "metadata": {
    "collapsed": true
   },
   "outputs": [],
   "source": []
  },
  {
   "cell_type": "code",
   "execution_count": null,
   "metadata": {
    "collapsed": true
   },
   "outputs": [],
   "source": []
  },
  {
   "cell_type": "code",
   "execution_count": null,
   "metadata": {
    "collapsed": true
   },
   "outputs": [],
   "source": []
  },
  {
   "cell_type": "code",
   "execution_count": null,
   "metadata": {
    "collapsed": true
   },
   "outputs": [],
   "source": []
  },
  {
   "cell_type": "code",
   "execution_count": null,
   "metadata": {
    "collapsed": true
   },
   "outputs": [],
   "source": []
  },
  {
   "cell_type": "code",
   "execution_count": null,
   "metadata": {
    "collapsed": true
   },
   "outputs": [],
   "source": []
  }
 ],
 "metadata": {
  "kernelspec": {
   "display_name": "Python 3",
   "language": "python",
   "name": "python3"
  },
  "language_info": {
   "codemirror_mode": {
    "name": "ipython",
    "version": 3
   },
   "file_extension": ".py",
   "mimetype": "text/x-python",
   "name": "python",
   "nbconvert_exporter": "python",
   "pygments_lexer": "ipython3",
   "version": "3.6.6"
  }
 },
 "nbformat": 4,
 "nbformat_minor": 2
}
