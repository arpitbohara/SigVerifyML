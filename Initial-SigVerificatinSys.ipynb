{
 "cells": [
  {
   "cell_type": "code",
   "execution_count": 1,
   "metadata": {
    "collapsed": true
   },
   "outputs": [
    {
     "name": "stderr",
     "output_type": "stream",
     "text": [
      "d:\\Arpit College\\FYP\\SignatureVerificationSystem\\sigverfiyenv\\lib\\site-packages\\tensorflow\\python\\framework\\dtypes.py:517: FutureWarning: Passing (type, 1) or '1type' as a synonym of type is deprecated; in a future version of numpy, it will be understood as (type, (1,)) / '(1,)type'.\n",
      "  _np_qint8 = np.dtype([(\"qint8\", np.int8, 1)])\n",
      "d:\\Arpit College\\FYP\\SignatureVerificationSystem\\sigverfiyenv\\lib\\site-packages\\tensorflow\\python\\framework\\dtypes.py:518: FutureWarning: Passing (type, 1) or '1type' as a synonym of type is deprecated; in a future version of numpy, it will be understood as (type, (1,)) / '(1,)type'.\n",
      "  _np_quint8 = np.dtype([(\"quint8\", np.uint8, 1)])\n",
      "d:\\Arpit College\\FYP\\SignatureVerificationSystem\\sigverfiyenv\\lib\\site-packages\\tensorflow\\python\\framework\\dtypes.py:519: FutureWarning: Passing (type, 1) or '1type' as a synonym of type is deprecated; in a future version of numpy, it will be understood as (type, (1,)) / '(1,)type'.\n",
      "  _np_qint16 = np.dtype([(\"qint16\", np.int16, 1)])\n",
      "d:\\Arpit College\\FYP\\SignatureVerificationSystem\\sigverfiyenv\\lib\\site-packages\\tensorflow\\python\\framework\\dtypes.py:520: FutureWarning: Passing (type, 1) or '1type' as a synonym of type is deprecated; in a future version of numpy, it will be understood as (type, (1,)) / '(1,)type'.\n",
      "  _np_quint16 = np.dtype([(\"quint16\", np.uint16, 1)])\n",
      "d:\\Arpit College\\FYP\\SignatureVerificationSystem\\sigverfiyenv\\lib\\site-packages\\tensorflow\\python\\framework\\dtypes.py:521: FutureWarning: Passing (type, 1) or '1type' as a synonym of type is deprecated; in a future version of numpy, it will be understood as (type, (1,)) / '(1,)type'.\n",
      "  _np_qint32 = np.dtype([(\"qint32\", np.int32, 1)])\n",
      "d:\\Arpit College\\FYP\\SignatureVerificationSystem\\sigverfiyenv\\lib\\site-packages\\tensorflow\\python\\framework\\dtypes.py:526: FutureWarning: Passing (type, 1) or '1type' as a synonym of type is deprecated; in a future version of numpy, it will be understood as (type, (1,)) / '(1,)type'.\n",
      "  np_resource = np.dtype([(\"resource\", np.ubyte, 1)])\n",
      "Using TensorFlow backend.\n"
     ]
    }
   ],
   "source": [
    "import numpy as np # linear algebra\n",
    "import os  # accessing directory structure\n",
    "import matplotlib # visualization\n",
    "import matplotlib.pyplot as plt \n",
    "import matplotlib.image as mpimg\n",
    "import matplotlib.cm as cm\n",
    "from scipy import ndimage # image processing\n",
    "from skimage.measure import regionprops # image processing\n",
    "from skimage import io # image processing\n",
    "from skimage.filters import threshold_otsu   # For finding the threshold for grayscale to binary conversion\n",
    "import tensorflow as tf # deep learning\n",
    "import pandas as pd # data processing, CSV file I/O (e.g. pd.read_csv)\n",
    "from time import time # for timing\n",
    "import keras # deep learning"
   ]
  },
  {
   "cell_type": "code",
   "execution_count": 2,
   "metadata": {},
   "outputs": [],
   "source": [
    "genuine_image_paths = \"D:\\\\Arpit College\\\\FYP\\\\SignatureVerificationSystem\\\\Data\\\\real/\"\n",
    "forged_image_paths = \"D:\\\\Arpit College\\\\FYP\\\\SignatureVerificationSystem\\\\Data\\\\forged/\"\n",
    "\n"
   ]
  },
  {
   "cell_type": "code",
   "execution_count": 3,
   "metadata": {},
   "outputs": [],
   "source": [
    "def rgbgrey(img):\n",
    "    # Converts rgb to grayscale\n",
    "    greyimg = np.zeros((img.shape[0], img.shape[1]))\n",
    "    for row in range(len(img)):\n",
    "        for col in range(len(img[row])):\n",
    "            greyimg[row][col] = np.average(img[row][col])\n",
    "    return greyimg"
   ]
  },
  {
   "cell_type": "code",
   "execution_count": 4,
   "metadata": {},
   "outputs": [],
   "source": [
    "def greybin(img):\n",
    "    # Converts grayscale to binary\n",
    "    blur_radius = 0.8\n",
    "    img = ndimage.gaussian_filter(img, blur_radius)  # to remove small components or noise\n",
    "#     img = ndimage.binary_erosion(img).astype(img.dtype)\n",
    "    thres = threshold_otsu(img)\n",
    "    binimg = img > thres\n",
    "    binimg = np.logical_not(binimg)\n",
    "    return binimg"
   ]
  },
  {
   "cell_type": "code",
   "execution_count": 5,
   "metadata": {
    "collapsed": true
   },
   "outputs": [],
   "source": [
    "def preproc(path, img=None, display=True):\n",
    "    if img is None:\n",
    "        img = mpimg.imread(path)\n",
    "    if display:\n",
    "        print(\"RGB Image\")\n",
    "        plt.imshow(img)\n",
    "        plt.show()\n",
    "    grey = rgbgrey(img) #rgb to grey\n",
    "    if display:\n",
    "        print(\"Greyscale Image\")\n",
    "        plt.imshow(grey, cmap = matplotlib.cm.Greys_r)\n",
    "        plt.show()\n",
    "    binimg = greybin(grey) #grey to binary\n",
    "    if display:\n",
    "        print(\"Binary Image\")\n",
    "        plt.imshow(binimg, cmap = matplotlib.cm.Greys_r)\n",
    "        plt.show()\n",
    "    r, c = np.where(binimg==1)\n",
    "    # Now this will make a bounding box with the boundary as the position of pixels on extreme.\n",
    "    signimg = binimg[r.min(): r.max(), c.min(): c.max()]\n",
    "    if display:\n",
    "        print(\"Cropped Image\")\n",
    "        plt.imshow(signimg, cmap = matplotlib.cm.Greys_r)\n",
    "        plt.show()\n",
    "    return signimg"
   ]
  },
  {
   "cell_type": "code",
   "execution_count": 6,
   "metadata": {},
   "outputs": [],
   "source": [
    "def Ratio(img):\n",
    "    a = 0\n",
    "    for row in range(len(img)):\n",
    "        for col in range(len(img[0])):\n",
    "            if img[row][col]==True:\n",
    "                a = a+1\n",
    "    total = img.shape[0] * img.shape[1]\n",
    "    return a/total"
   ]
  },
  {
   "cell_type": "code",
   "execution_count": 7,
   "metadata": {},
   "outputs": [],
   "source": [
    "def Centroid(img):\n",
    "    numOfWhites = 0\n",
    "    a = np.array([0,0])\n",
    "    for row in range(len(img)):\n",
    "        for col in range(len(img[0])):\n",
    "            if img[row][col]==True:\n",
    "                b = np.array([row,col])\n",
    "                a = np.add(a,b)\n",
    "                numOfWhites += 1\n",
    "    rowcols = np.array([img.shape[0], img.shape[1]])\n",
    "    centroid = a/numOfWhites\n",
    "    centroid = centroid/rowcols\n",
    "    return centroid[0], centroid[1]"
   ]
  },
  {
   "cell_type": "code",
   "execution_count": 8,
   "metadata": {},
   "outputs": [],
   "source": [
    "def SkewKurtosis(img):\n",
    "    h,w = img.shape\n",
    "    x = range(w)  # cols value\n",
    "    y = range(h)  # rows value\n",
    "    #calculate projections along the x and y axes\n",
    "    xp = np.sum(img,axis=0)\n",
    "    yp = np.sum(img,axis=1)\n",
    "    #centroid\n",
    "    cx = np.sum(x*xp)/np.sum(xp)\n",
    "    cy = np.sum(y*yp)/np.sum(yp)\n",
    "    #standard deviation\n",
    "    x2 = (x-cx)**2\n",
    "    y2 = (y-cy)**2\n",
    "    sx = np.sqrt(np.sum(x2*xp)/np.sum(img))\n",
    "    sy = np.sqrt(np.sum(y2*yp)/np.sum(img))\n",
    "    \n",
    "    #skewness\n",
    "    x3 = (x-cx)**3\n",
    "    y3 = (y-cy)**3\n",
    "    skewx = np.sum(xp*x3)/(np.sum(img) * sx**3)\n",
    "    skewy = np.sum(yp*y3)/(np.sum(img) * sy**3)\n",
    "\n",
    "    #Kurtosis\n",
    "    x4 = (x-cx)**4\n",
    "    y4 = (y-cy)**4\n",
    "    # 3 is subtracted to calculate relative to the normal distribution\n",
    "    kurtx = np.sum(xp*x4)/(np.sum(img) * sx**4) - 3\n",
    "    kurty = np.sum(yp*y4)/(np.sum(img) * sy**4) - 3\n",
    "\n",
    "    return (skewx , skewy), (kurtx, kurty)"
   ]
  },
  {
   "cell_type": "code",
   "execution_count": 9,
   "metadata": {
    "collapsed": true
   },
   "outputs": [],
   "source": [
    "def EccentricitySolidity(img):\n",
    "    r = regionprops(img.astype(\"int8\"))\n",
    "    return r[0].eccentricity, r[0].solidity"
   ]
  },
  {
   "cell_type": "code",
   "execution_count": null,
   "metadata": {
    "collapsed": true
   },
   "outputs": [],
   "source": []
  },
  {
   "cell_type": "code",
   "execution_count": 10,
   "metadata": {
    "collapsed": true
   },
   "outputs": [],
   "source": [
    "def getFeatures(path, img=None, display=False):\n",
    "    if img is None:\n",
    "        img = mpimg.imread(path)\n",
    "    img = preproc(path, display=display)\n",
    "    ratio = Ratio(img)\n",
    "    centroid = Centroid(img)\n",
    "    eccentricity, solidity = EccentricitySolidity(img)\n",
    "    skewness, kurtosis = SkewKurtosis(img)\n",
    "    retVal = (ratio, centroid, eccentricity, solidity, skewness, kurtosis)\n",
    "    return retVal"
   ]
  },
  {
   "cell_type": "code",
   "execution_count": 11,
   "metadata": {
    "collapsed": true
   },
   "outputs": [],
   "source": [
    "def getCSVFeatures(path, img=None, display=False):\n",
    "    if img is None:\n",
    "        img = mpimg.imread(path)\n",
    "    temp = getFeatures(path, display=display)\n",
    "    features = (temp[0], temp[1][0], temp[1][1], temp[2], temp[3], temp[4][0], temp[4][1], temp[5][0], temp[5][1])\n",
    "    return features"
   ]
  },
  {
   "cell_type": "markdown",
   "metadata": {
    "collapsed": true
   },
   "source": [
    "## Saving the features"
   ]
  },
  {
   "cell_type": "code",
   "execution_count": 12,
   "metadata": {
    "collapsed": true
   },
   "outputs": [],
   "source": [
    "def makeCSV():\n",
    "    if not(os.path.exists('D:\\\\Arpit College\\\\FYP\\\\SignatureVerificationSystem\\\\Data\\\\Features')):\n",
    "        os.mkdir('D:\\\\Arpit College\\\\FYP\\\\SignatureVerificationSystem\\\\Data\\\\Features')\n",
    "        print('New folder \"Features\" created')\n",
    "        \n",
    "    if not(os.path.exists('D:\\\\Arpit College\\\\FYP\\\\SignatureVerificationSystem\\\\Data\\\\Features/Training')):\n",
    "        os.mkdir('D:\\\\Arpit College\\\\FYP\\\\SignatureVerificationSystem\\\\Data\\\\Features/Training')\n",
    "        print('New folder \"Features/Training\" created')\n",
    "\n",
    "    if not(os.path.exists('D:\\\\Arpit College\\\\FYP\\\\SignatureVerificationSystem\\\\Data\\\\Features/Testing')):\n",
    "        os.mkdir('D:\\\\Arpit College\\\\FYP\\\\SignatureVerificationSystem\\\\Data\\\\Features/Testing')\n",
    "        print('New folder \"Features/Testing\" created')\n",
    "    # genuine signatures path\n",
    "    gpath = genuine_image_paths\n",
    "    # forged signatures path\n",
    "    fpath = forged_image_paths\n",
    "    for person in range(1,15):\n",
    "        per = ('00'+str(person))[-3:]\n",
    "        print('Saving features for person id-',per)\n",
    "        \n",
    "        with open('D:\\\\Arpit College\\\\FYP\\\\SignatureVerificationSystem\\\\Data\\\\Features\\\\Training/training_'+per+'.csv', 'w') as handle:\n",
    "            handle.write('ratio,cent_y,cent_x,eccentricity,solidity,skew_x,skew_y,kurt_x,kurt_y,output\\n')\n",
    "            # Training set\n",
    "            for i in range(0,3):\n",
    "                source = os.path.join(gpath, per+per+'_00'+str(i)+'.png')\n",
    "                features = getCSVFeatures(path=source)\n",
    "                handle.write(','.join(map(str, features))+',1\\n')\n",
    "            for i in range(0,3):\n",
    "                source = os.path.join(fpath, '021'+per+'_00'+str(i)+'.png')\n",
    "                features = getCSVFeatures(path=source)\n",
    "                handle.write(','.join(map(str, features))+',0\\n')\n",
    "        \n",
    "        with open('D:\\\\Arpit College\\\\FYP\\\\SignatureVerificationSystem\\\\Data\\\\Features\\\\Testing/testing_'+per+'.csv', 'w') as handle:\n",
    "            handle.write('ratio,cent_y,cent_x,eccentricity,solidity,skew_x,skew_y,kurt_x,kurt_y,output\\n')\n",
    "            # Testing set\n",
    "            for i in range(3, 5):\n",
    "                source = os.path.join(gpath, per+per+'_00'+str(i)+'.png')\n",
    "                features = getCSVFeatures(path=source)\n",
    "                handle.write(','.join(map(str, features))+',1\\n')\n",
    "            for i in range(3,5):\n",
    "                source = os.path.join(fpath, '021'+per+'_00'+str(i)+'.png')\n",
    "                features = getCSVFeatures(path=source)\n",
    "                handle.write(','.join(map(str, features))+',0\\n')"
   ]
  },
  {
   "cell_type": "code",
   "execution_count": 13,
   "metadata": {},
   "outputs": [
    {
     "name": "stdout",
     "output_type": "stream",
     "text": [
      "Saving features for person id- 001\n"
     ]
    },
    {
     "ename": "KeyboardInterrupt",
     "evalue": "",
     "output_type": "error",
     "traceback": [
      "\u001b[1;31m---------------------------------------------------------------------------\u001b[0m",
      "\u001b[1;31mKeyboardInterrupt\u001b[0m                         Traceback (most recent call last)",
      "\u001b[1;32m<ipython-input-13-031826d85c1e>\u001b[0m in \u001b[0;36m<module>\u001b[1;34m\u001b[0m\n\u001b[1;32m----> 1\u001b[1;33m \u001b[0mmakeCSV\u001b[0m\u001b[1;33m(\u001b[0m\u001b[1;33m)\u001b[0m\u001b[1;33m\u001b[0m\u001b[0m\n\u001b[0m",
      "\u001b[1;32m<ipython-input-12-f5219108b3b0>\u001b[0m in \u001b[0;36mmakeCSV\u001b[1;34m()\u001b[0m\n\u001b[0;32m     24\u001b[0m             \u001b[1;32mfor\u001b[0m \u001b[0mi\u001b[0m \u001b[1;32min\u001b[0m \u001b[0mrange\u001b[0m\u001b[1;33m(\u001b[0m\u001b[1;36m0\u001b[0m\u001b[1;33m,\u001b[0m\u001b[1;36m3\u001b[0m\u001b[1;33m)\u001b[0m\u001b[1;33m:\u001b[0m\u001b[1;33m\u001b[0m\u001b[0m\n\u001b[0;32m     25\u001b[0m                 \u001b[0msource\u001b[0m \u001b[1;33m=\u001b[0m \u001b[0mos\u001b[0m\u001b[1;33m.\u001b[0m\u001b[0mpath\u001b[0m\u001b[1;33m.\u001b[0m\u001b[0mjoin\u001b[0m\u001b[1;33m(\u001b[0m\u001b[0mgpath\u001b[0m\u001b[1;33m,\u001b[0m \u001b[0mper\u001b[0m\u001b[1;33m+\u001b[0m\u001b[0mper\u001b[0m\u001b[1;33m+\u001b[0m\u001b[1;34m'_00'\u001b[0m\u001b[1;33m+\u001b[0m\u001b[0mstr\u001b[0m\u001b[1;33m(\u001b[0m\u001b[0mi\u001b[0m\u001b[1;33m)\u001b[0m\u001b[1;33m+\u001b[0m\u001b[1;34m'.png'\u001b[0m\u001b[1;33m)\u001b[0m\u001b[1;33m\u001b[0m\u001b[0m\n\u001b[1;32m---> 26\u001b[1;33m                 \u001b[0mfeatures\u001b[0m \u001b[1;33m=\u001b[0m \u001b[0mgetCSVFeatures\u001b[0m\u001b[1;33m(\u001b[0m\u001b[0mpath\u001b[0m\u001b[1;33m=\u001b[0m\u001b[0msource\u001b[0m\u001b[1;33m)\u001b[0m\u001b[1;33m\u001b[0m\u001b[0m\n\u001b[0m\u001b[0;32m     27\u001b[0m                 \u001b[0mhandle\u001b[0m\u001b[1;33m.\u001b[0m\u001b[0mwrite\u001b[0m\u001b[1;33m(\u001b[0m\u001b[1;34m','\u001b[0m\u001b[1;33m.\u001b[0m\u001b[0mjoin\u001b[0m\u001b[1;33m(\u001b[0m\u001b[0mmap\u001b[0m\u001b[1;33m(\u001b[0m\u001b[0mstr\u001b[0m\u001b[1;33m,\u001b[0m \u001b[0mfeatures\u001b[0m\u001b[1;33m)\u001b[0m\u001b[1;33m)\u001b[0m\u001b[1;33m+\u001b[0m\u001b[1;34m',1\\n'\u001b[0m\u001b[1;33m)\u001b[0m\u001b[1;33m\u001b[0m\u001b[0m\n\u001b[0;32m     28\u001b[0m             \u001b[1;32mfor\u001b[0m \u001b[0mi\u001b[0m \u001b[1;32min\u001b[0m \u001b[0mrange\u001b[0m\u001b[1;33m(\u001b[0m\u001b[1;36m0\u001b[0m\u001b[1;33m,\u001b[0m\u001b[1;36m3\u001b[0m\u001b[1;33m)\u001b[0m\u001b[1;33m:\u001b[0m\u001b[1;33m\u001b[0m\u001b[0m\n",
      "\u001b[1;32m<ipython-input-11-7932367fb222>\u001b[0m in \u001b[0;36mgetCSVFeatures\u001b[1;34m(path, img, display)\u001b[0m\n\u001b[0;32m      2\u001b[0m     \u001b[1;32mif\u001b[0m \u001b[0mimg\u001b[0m \u001b[1;32mis\u001b[0m \u001b[1;32mNone\u001b[0m\u001b[1;33m:\u001b[0m\u001b[1;33m\u001b[0m\u001b[0m\n\u001b[0;32m      3\u001b[0m         \u001b[0mimg\u001b[0m \u001b[1;33m=\u001b[0m \u001b[0mmpimg\u001b[0m\u001b[1;33m.\u001b[0m\u001b[0mimread\u001b[0m\u001b[1;33m(\u001b[0m\u001b[0mpath\u001b[0m\u001b[1;33m)\u001b[0m\u001b[1;33m\u001b[0m\u001b[0m\n\u001b[1;32m----> 4\u001b[1;33m     \u001b[0mtemp\u001b[0m \u001b[1;33m=\u001b[0m \u001b[0mgetFeatures\u001b[0m\u001b[1;33m(\u001b[0m\u001b[0mpath\u001b[0m\u001b[1;33m,\u001b[0m \u001b[0mdisplay\u001b[0m\u001b[1;33m=\u001b[0m\u001b[0mdisplay\u001b[0m\u001b[1;33m)\u001b[0m\u001b[1;33m\u001b[0m\u001b[0m\n\u001b[0m\u001b[0;32m      5\u001b[0m     \u001b[0mfeatures\u001b[0m \u001b[1;33m=\u001b[0m \u001b[1;33m(\u001b[0m\u001b[0mtemp\u001b[0m\u001b[1;33m[\u001b[0m\u001b[1;36m0\u001b[0m\u001b[1;33m]\u001b[0m\u001b[1;33m,\u001b[0m \u001b[0mtemp\u001b[0m\u001b[1;33m[\u001b[0m\u001b[1;36m1\u001b[0m\u001b[1;33m]\u001b[0m\u001b[1;33m[\u001b[0m\u001b[1;36m0\u001b[0m\u001b[1;33m]\u001b[0m\u001b[1;33m,\u001b[0m \u001b[0mtemp\u001b[0m\u001b[1;33m[\u001b[0m\u001b[1;36m1\u001b[0m\u001b[1;33m]\u001b[0m\u001b[1;33m[\u001b[0m\u001b[1;36m1\u001b[0m\u001b[1;33m]\u001b[0m\u001b[1;33m,\u001b[0m \u001b[0mtemp\u001b[0m\u001b[1;33m[\u001b[0m\u001b[1;36m2\u001b[0m\u001b[1;33m]\u001b[0m\u001b[1;33m,\u001b[0m \u001b[0mtemp\u001b[0m\u001b[1;33m[\u001b[0m\u001b[1;36m3\u001b[0m\u001b[1;33m]\u001b[0m\u001b[1;33m,\u001b[0m \u001b[0mtemp\u001b[0m\u001b[1;33m[\u001b[0m\u001b[1;36m4\u001b[0m\u001b[1;33m]\u001b[0m\u001b[1;33m[\u001b[0m\u001b[1;36m0\u001b[0m\u001b[1;33m]\u001b[0m\u001b[1;33m,\u001b[0m \u001b[0mtemp\u001b[0m\u001b[1;33m[\u001b[0m\u001b[1;36m4\u001b[0m\u001b[1;33m]\u001b[0m\u001b[1;33m[\u001b[0m\u001b[1;36m1\u001b[0m\u001b[1;33m]\u001b[0m\u001b[1;33m,\u001b[0m \u001b[0mtemp\u001b[0m\u001b[1;33m[\u001b[0m\u001b[1;36m5\u001b[0m\u001b[1;33m]\u001b[0m\u001b[1;33m[\u001b[0m\u001b[1;36m0\u001b[0m\u001b[1;33m]\u001b[0m\u001b[1;33m,\u001b[0m \u001b[0mtemp\u001b[0m\u001b[1;33m[\u001b[0m\u001b[1;36m5\u001b[0m\u001b[1;33m]\u001b[0m\u001b[1;33m[\u001b[0m\u001b[1;36m1\u001b[0m\u001b[1;33m]\u001b[0m\u001b[1;33m)\u001b[0m\u001b[1;33m\u001b[0m\u001b[0m\n\u001b[0;32m      6\u001b[0m     \u001b[1;32mreturn\u001b[0m \u001b[0mfeatures\u001b[0m\u001b[1;33m\u001b[0m\u001b[0m\n",
      "\u001b[1;32m<ipython-input-10-0b0cc6d6e759>\u001b[0m in \u001b[0;36mgetFeatures\u001b[1;34m(path, img, display)\u001b[0m\n\u001b[0;32m      2\u001b[0m     \u001b[1;32mif\u001b[0m \u001b[0mimg\u001b[0m \u001b[1;32mis\u001b[0m \u001b[1;32mNone\u001b[0m\u001b[1;33m:\u001b[0m\u001b[1;33m\u001b[0m\u001b[0m\n\u001b[0;32m      3\u001b[0m         \u001b[0mimg\u001b[0m \u001b[1;33m=\u001b[0m \u001b[0mmpimg\u001b[0m\u001b[1;33m.\u001b[0m\u001b[0mimread\u001b[0m\u001b[1;33m(\u001b[0m\u001b[0mpath\u001b[0m\u001b[1;33m)\u001b[0m\u001b[1;33m\u001b[0m\u001b[0m\n\u001b[1;32m----> 4\u001b[1;33m     \u001b[0mimg\u001b[0m \u001b[1;33m=\u001b[0m \u001b[0mpreproc\u001b[0m\u001b[1;33m(\u001b[0m\u001b[0mpath\u001b[0m\u001b[1;33m,\u001b[0m \u001b[0mdisplay\u001b[0m\u001b[1;33m=\u001b[0m\u001b[0mdisplay\u001b[0m\u001b[1;33m)\u001b[0m\u001b[1;33m\u001b[0m\u001b[0m\n\u001b[0m\u001b[0;32m      5\u001b[0m     \u001b[0mratio\u001b[0m \u001b[1;33m=\u001b[0m \u001b[0mRatio\u001b[0m\u001b[1;33m(\u001b[0m\u001b[0mimg\u001b[0m\u001b[1;33m)\u001b[0m\u001b[1;33m\u001b[0m\u001b[0m\n\u001b[0;32m      6\u001b[0m     \u001b[0mcentroid\u001b[0m \u001b[1;33m=\u001b[0m \u001b[0mCentroid\u001b[0m\u001b[1;33m(\u001b[0m\u001b[0mimg\u001b[0m\u001b[1;33m)\u001b[0m\u001b[1;33m\u001b[0m\u001b[0m\n",
      "\u001b[1;32m<ipython-input-5-203d64fe68f0>\u001b[0m in \u001b[0;36mpreproc\u001b[1;34m(path, img, display)\u001b[0m\n\u001b[0;32m      6\u001b[0m         \u001b[0mplt\u001b[0m\u001b[1;33m.\u001b[0m\u001b[0mimshow\u001b[0m\u001b[1;33m(\u001b[0m\u001b[0mimg\u001b[0m\u001b[1;33m)\u001b[0m\u001b[1;33m\u001b[0m\u001b[0m\n\u001b[0;32m      7\u001b[0m         \u001b[0mplt\u001b[0m\u001b[1;33m.\u001b[0m\u001b[0mshow\u001b[0m\u001b[1;33m(\u001b[0m\u001b[1;33m)\u001b[0m\u001b[1;33m\u001b[0m\u001b[0m\n\u001b[1;32m----> 8\u001b[1;33m     \u001b[0mgrey\u001b[0m \u001b[1;33m=\u001b[0m \u001b[0mrgbgrey\u001b[0m\u001b[1;33m(\u001b[0m\u001b[0mimg\u001b[0m\u001b[1;33m)\u001b[0m \u001b[1;31m#rgb to grey\u001b[0m\u001b[1;33m\u001b[0m\u001b[0m\n\u001b[0m\u001b[0;32m      9\u001b[0m     \u001b[1;32mif\u001b[0m \u001b[0mdisplay\u001b[0m\u001b[1;33m:\u001b[0m\u001b[1;33m\u001b[0m\u001b[0m\n\u001b[0;32m     10\u001b[0m         \u001b[0mprint\u001b[0m\u001b[1;33m(\u001b[0m\u001b[1;34m\"Greyscale Image\"\u001b[0m\u001b[1;33m)\u001b[0m\u001b[1;33m\u001b[0m\u001b[0m\n",
      "\u001b[1;32m<ipython-input-3-5cdead6c12ea>\u001b[0m in \u001b[0;36mrgbgrey\u001b[1;34m(img)\u001b[0m\n\u001b[0;32m      4\u001b[0m     \u001b[1;32mfor\u001b[0m \u001b[0mrow\u001b[0m \u001b[1;32min\u001b[0m \u001b[0mrange\u001b[0m\u001b[1;33m(\u001b[0m\u001b[0mlen\u001b[0m\u001b[1;33m(\u001b[0m\u001b[0mimg\u001b[0m\u001b[1;33m)\u001b[0m\u001b[1;33m)\u001b[0m\u001b[1;33m:\u001b[0m\u001b[1;33m\u001b[0m\u001b[0m\n\u001b[0;32m      5\u001b[0m         \u001b[1;32mfor\u001b[0m \u001b[0mcol\u001b[0m \u001b[1;32min\u001b[0m \u001b[0mrange\u001b[0m\u001b[1;33m(\u001b[0m\u001b[0mlen\u001b[0m\u001b[1;33m(\u001b[0m\u001b[0mimg\u001b[0m\u001b[1;33m[\u001b[0m\u001b[0mrow\u001b[0m\u001b[1;33m]\u001b[0m\u001b[1;33m)\u001b[0m\u001b[1;33m)\u001b[0m\u001b[1;33m:\u001b[0m\u001b[1;33m\u001b[0m\u001b[0m\n\u001b[1;32m----> 6\u001b[1;33m             \u001b[0mgreyimg\u001b[0m\u001b[1;33m[\u001b[0m\u001b[0mrow\u001b[0m\u001b[1;33m]\u001b[0m\u001b[1;33m[\u001b[0m\u001b[0mcol\u001b[0m\u001b[1;33m]\u001b[0m \u001b[1;33m=\u001b[0m \u001b[0mnp\u001b[0m\u001b[1;33m.\u001b[0m\u001b[0maverage\u001b[0m\u001b[1;33m(\u001b[0m\u001b[0mimg\u001b[0m\u001b[1;33m[\u001b[0m\u001b[0mrow\u001b[0m\u001b[1;33m]\u001b[0m\u001b[1;33m[\u001b[0m\u001b[0mcol\u001b[0m\u001b[1;33m]\u001b[0m\u001b[1;33m)\u001b[0m\u001b[1;33m\u001b[0m\u001b[0m\n\u001b[0m\u001b[0;32m      7\u001b[0m     \u001b[1;32mreturn\u001b[0m \u001b[0mgreyimg\u001b[0m\u001b[1;33m\u001b[0m\u001b[0m\n",
      "\u001b[1;32m<__array_function__ internals>\u001b[0m in \u001b[0;36maverage\u001b[1;34m(*args, **kwargs)\u001b[0m\n",
      "\u001b[1;32md:\\Arpit College\\FYP\\SignatureVerificationSystem\\sigverfiyenv\\lib\\site-packages\\numpy\\lib\\function_base.py\u001b[0m in \u001b[0;36maverage\u001b[1;34m(a, axis, weights, returned)\u001b[0m\n\u001b[0;32m    378\u001b[0m \u001b[1;33m\u001b[0m\u001b[0m\n\u001b[0;32m    379\u001b[0m     \u001b[1;32mif\u001b[0m \u001b[0mweights\u001b[0m \u001b[1;32mis\u001b[0m \u001b[1;32mNone\u001b[0m\u001b[1;33m:\u001b[0m\u001b[1;33m\u001b[0m\u001b[0m\n\u001b[1;32m--> 380\u001b[1;33m         \u001b[0mavg\u001b[0m \u001b[1;33m=\u001b[0m \u001b[0ma\u001b[0m\u001b[1;33m.\u001b[0m\u001b[0mmean\u001b[0m\u001b[1;33m(\u001b[0m\u001b[0maxis\u001b[0m\u001b[1;33m)\u001b[0m\u001b[1;33m\u001b[0m\u001b[0m\n\u001b[0m\u001b[0;32m    381\u001b[0m         \u001b[0mscl\u001b[0m \u001b[1;33m=\u001b[0m \u001b[0mavg\u001b[0m\u001b[1;33m.\u001b[0m\u001b[0mdtype\u001b[0m\u001b[1;33m.\u001b[0m\u001b[0mtype\u001b[0m\u001b[1;33m(\u001b[0m\u001b[0ma\u001b[0m\u001b[1;33m.\u001b[0m\u001b[0msize\u001b[0m\u001b[1;33m/\u001b[0m\u001b[0mavg\u001b[0m\u001b[1;33m.\u001b[0m\u001b[0msize\u001b[0m\u001b[1;33m)\u001b[0m\u001b[1;33m\u001b[0m\u001b[0m\n\u001b[0;32m    382\u001b[0m     \u001b[1;32melse\u001b[0m\u001b[1;33m:\u001b[0m\u001b[1;33m\u001b[0m\u001b[0m\n",
      "\u001b[1;32md:\\Arpit College\\FYP\\SignatureVerificationSystem\\sigverfiyenv\\lib\\site-packages\\numpy\\core\\_methods.py\u001b[0m in \u001b[0;36m_mean\u001b[1;34m(a, axis, dtype, out, keepdims)\u001b[0m\n\u001b[0;32m    159\u001b[0m \u001b[1;33m\u001b[0m\u001b[0m\n\u001b[0;32m    160\u001b[0m     \u001b[0mret\u001b[0m \u001b[1;33m=\u001b[0m \u001b[0mumr_sum\u001b[0m\u001b[1;33m(\u001b[0m\u001b[0marr\u001b[0m\u001b[1;33m,\u001b[0m \u001b[0maxis\u001b[0m\u001b[1;33m,\u001b[0m \u001b[0mdtype\u001b[0m\u001b[1;33m,\u001b[0m \u001b[0mout\u001b[0m\u001b[1;33m,\u001b[0m \u001b[0mkeepdims\u001b[0m\u001b[1;33m)\u001b[0m\u001b[1;33m\u001b[0m\u001b[0m\n\u001b[1;32m--> 161\u001b[1;33m     \u001b[1;32mif\u001b[0m \u001b[0misinstance\u001b[0m\u001b[1;33m(\u001b[0m\u001b[0mret\u001b[0m\u001b[1;33m,\u001b[0m \u001b[0mmu\u001b[0m\u001b[1;33m.\u001b[0m\u001b[0mndarray\u001b[0m\u001b[1;33m)\u001b[0m\u001b[1;33m:\u001b[0m\u001b[1;33m\u001b[0m\u001b[0m\n\u001b[0m\u001b[0;32m    162\u001b[0m         ret = um.true_divide(\n\u001b[0;32m    163\u001b[0m                 ret, rcount, out=ret, casting='unsafe', subok=False)\n",
      "\u001b[1;31mKeyboardInterrupt\u001b[0m: "
     ]
    }
   ],
   "source": [
    "makeCSV()"
   ]
  },
  {
   "cell_type": "markdown",
   "metadata": {},
   "source": [
    "# TF Model "
   ]
  },
  {
   "cell_type": "code",
   "execution_count": 14,
   "metadata": {
    "collapsed": true
   },
   "outputs": [],
   "source": [
    "def testing(path):\n",
    "    feature = getCSVFeatures(path)\n",
    "    if not(os.path.exists('D:\\\\Arpit College\\\\FYP\\\\SignatureVerificationSystem\\\\Data\\\\TestFeatures')):\n",
    "        os.mkdir('D:\\\\Arpit College\\\\FYP\\\\SignatureVerificationSystem\\\\Data\\\\TestFeatures')\n",
    "    with open('D:\\\\Arpit College\\\\FYP\\\\SignatureVerificationSystem\\\\Data\\\\TestFeatures/testcsv.csv', 'w') as handle:\n",
    "        handle.write('ratio,cent_y,cent_x,eccentricity,solidity,skew_x,skew_y,kurt_x,kurt_y\\n')\n",
    "        handle.write(','.join(map(str, feature))+'\\n')"
   ]
  },
  {
   "cell_type": "code",
   "execution_count": 17,
   "metadata": {},
   "outputs": [],
   "source": [
    "n_input = 9\n",
    "train_person_id = input(\"Enter person's id : \")\n",
    "test_image_path = input(\"Enter path of signature image : \")\n",
    "train_path = 'D:\\\\Arpit College\\\\FYP\\\\SignatureVerificationSystem\\\\Data\\\\Features\\\\Training/training_'+train_person_id+'.csv'\n",
    "testing(test_image_path)\n",
    "test_path = 'D:\\\\Arpit College\\\\FYP\\\\SignatureVerificationSystem\\\\Data\\\\TestFeatures/testcsv.csv'\n",
    "\n",
    "def readCSV(train_path, test_path, type2=False):\n",
    "    # Reading train data\n",
    "    df = pd.read_csv(train_path, usecols=range(n_input))\n",
    "    train_input = np.array(df.values)\n",
    "    train_input = train_input.astype(np.float32, copy=False)  # Converting input to float_32\n",
    "    df = pd.read_csv(train_path, usecols=(n_input,))\n",
    "    temp = [elem[0] for elem in df.values]\n",
    "    correct = np.array(temp)\n",
    "    corr_train = keras.utils.to_categorical(correct,2)      # Converting to one hot\n",
    "    # Reading test data\n",
    "    df = pd.read_csv(test_path, usecols=range(n_input))\n",
    "    test_input = np.array(df.values)\n",
    "    test_input = test_input.astype(np.float32, copy=False)\n",
    "    if not(type2):\n",
    "        df = pd.read_csv(test_path, usecols=range(n_input))\n",
    "        temp = [elem[0] for elem in df.values]\n",
    "        correct = np.array(temp)\n",
    "        corr_test = keras.utils.to_categorical(correct,2)      # Converting to one hot\n",
    "    if not(type2):\n",
    "        return train_input, corr_train, test_input, corr_test\n",
    "    else:\n",
    "        return train_input, corr_train, test_input\n",
    "\n",
    "tf.reset_default_graph()\n",
    "# Parameters\n",
    "learning_rate = 0.001\n",
    "training_epochs = 10000\n",
    "display_step = 1\n",
    "\n",
    "\n",
    "# Network Parameters\n",
    "n_hidden_1 = 7 # 1st layer number of neurons\n",
    "n_hidden_2 = 7 # 2nd layer number of neurons\n",
    "n_classes = 2 # no. of classes (genuine or forged)\n",
    "\n",
    "# tf Graph input\n",
    "X = tf.placeholder(\"float\", [None, n_input])\n",
    "Y = tf.placeholder(\"float\", [None, n_classes])\n",
    "\n",
    "# Store layers weight & bias\n",
    "weights = {\n",
    "    'h1': tf.Variable(tf.random_normal([n_input, n_hidden_1], seed=1)),\n",
    "    'h2': tf.Variable(tf.random_normal([n_hidden_1, n_hidden_2],seed=2)),\n",
    "    'out': tf.Variable(tf.random_normal([n_hidden_2, n_classes], seed=2))\n",
    "}\n",
    "biases = {\n",
    "    'b1': tf.Variable(tf.random_normal([n_hidden_1], seed=1)),\n",
    "    'b2': tf.Variable(tf.random_normal([n_hidden_2], seed=2)),\n",
    "    'out': tf.Variable(tf.random_normal([n_classes], seed=1))\n",
    "}\n",
    "\n",
    "\n",
    "# Create model\n",
    "def multilayer_perceptron(x):\n",
    "    layer_1 = tf.tanh((tf.matmul(x, weights['h1']) + biases['b1']))\n",
    "    layer_2 = tf.add(tf.matmul(layer_1, weights['h2']), biases['b2'])\n",
    "    out_layer = tf.tanh(tf.matmul(layer_2, weights['out']) + biases['out'])\n",
    "    return out_layer\n",
    "\n",
    "# Construct model\n",
    "logits = multilayer_perceptron(X)\n",
    "\n",
    "# Define loss and optimizer\n",
    "\n",
    "loss_op = tf.reduce_mean(tf.squared_difference(logits, Y))\n",
    "optimizer = tf.train.AdamOptimizer(learning_rate=learning_rate)\n",
    "train_op = optimizer.minimize(loss_op)\n",
    "# For accuracies\n",
    "pred = tf.nn.softmax(logits)  # Apply softmax to logits\n",
    "correct_prediction = tf.equal(tf.argmax(pred,1), tf.argmax(Y,1))\n",
    "accuracy = tf.reduce_mean(tf.cast(correct_prediction, tf.float32))\n",
    "\n",
    "# Initializing the variables\n",
    "init = tf.global_variables_initializer()\n",
    "\n",
    "def evaluate(train_path, test_path, type2=False):   \n",
    "    if not(type2):\n",
    "        train_input, corr_train, test_input, corr_test = readCSV(train_path, test_path)\n",
    "    else:\n",
    "        train_input, corr_train, test_input = readCSV(train_path, test_path, type2)\n",
    "    costs=[]\n",
    "\n",
    "    with tf.Session() as sess:\n",
    "        sess.run(init)\n",
    "        # Training cycle\n",
    "        for epoch in range(training_epochs):\n",
    "\n",
    "            # Run optimization op (backprop) and cost op (to get loss value)\n",
    "            _, cost = sess.run([train_op, loss_op], feed_dict={X: train_input, Y: corr_train})\n",
    "            costs.append(cost)\n",
    "\n",
    "            if epoch%100==0:\n",
    "                print(epoch , cost)\n",
    "            elif epoch==training_epochs-1:\n",
    "                print(epoch , cost)\n",
    "\n",
    "            if cost<0.0001:\n",
    "                break\n",
    "        print(\"Optimization Finished!\")\n",
    "\n",
    "         # Plot the cost values\n",
    "        plt.plot(costs)\n",
    "        plt.xlabel('Epoch')\n",
    "        plt.ylabel('Cost')\n",
    "        plt.title('Cost vs. Epoch')\n",
    "        plt.show()\n",
    "\n",
    "\n",
    "        # Finding accuracies\n",
    "        accuracy1 =  accuracy.eval({X: train_input, Y: corr_train})\n",
    "        print(\"Accuracy for train:\", accuracy1)\n",
    "        \n",
    "        if type2 is False:\n",
    "            accuracy2 =  accuracy.eval({X: test_input, Y: corr_test})   \n",
    "\n",
    "            return accuracy1, accuracy2\n",
    "            \n",
    "        else:\n",
    "            prediction = pred.eval({X: test_input})\n",
    "            # import pdb; pdb.set_trace()\n",
    "            if prediction[0][1]>prediction[0][0]:\n",
    "                print('Genuine Image')\n",
    "                return True\n",
    "            else:\n",
    "                print('Forged Image')\n",
    "                return False\n",
    "\n",
    "\n",
    "def trainAndTest(rate=0.001, epochs=10000, neurons=7, display=False):    \n",
    "    start = time()\n",
    "\n",
    "    # Parameters\n",
    "    global training_rate, training_epochs, n_hidden_1\n",
    "    learning_rate = rate\n",
    "    training_epochs = epochs\n",
    "\n",
    "    # Network Parameters\n",
    "    n_hidden_1 = neurons # 1st layer number of neurons\n",
    "    n_hidden_2 = 7 # 2nd layer number of neurons\n",
    "\n",
    "    train_avg, test_avg = 0, 0\n",
    "    n = 14\n",
    "    for i in range(1,n+1):\n",
    "        if display:\n",
    "            print(\"Running for Person id\",i)\n",
    "        temp = ('0'+str(i))[-2:]\n",
    "        train_score, test_score = evaluate(train_path.replace('01',temp), test_path.replace('01',temp))\n",
    "        train_avg += train_score\n",
    "        test_avg += test_score\n",
    "    if display:\n",
    "        print(\"Number of neurons in Hidden layer-\", n_hidden_1)\n",
    "        print(\"Number of neurons in Hidden layer-\", n_hidden_2)\n",
    "        print(\"Training average-\", train_avg/n)\n",
    "        print(\"Testing average-\", test_avg/n)\n",
    "        print(\"Time taken-\", time()-start)\n",
    "        print(\"Learning rate- \", learning_rate)\n",
    "    return train_avg/n, test_avg/n, (time()-start)/n\n",
    "\n",
    "# trainAndTest(display=True)\n",
    "\n",
    "\n"
   ]
  },
  {
   "cell_type": "code",
   "execution_count": 18,
   "metadata": {
    "collapsed": true
   },
   "outputs": [
    {
     "name": "stdout",
     "output_type": "stream",
     "text": [
      "0 2.449459\n",
      "100 1.8519497\n",
      "200 0.087936155\n",
      "300 0.05707724\n",
      "400 0.04008663\n",
      "500 0.0249507\n",
      "600 0.011530268\n",
      "700 0.0046951273\n",
      "800 0.0022730755\n",
      "900 0.0013378779\n",
      "1000 0.0009055163\n",
      "1100 0.00067037105\n",
      "1200 0.000525813\n",
      "1300 0.0004286481\n",
      "1400 0.0003589467\n",
      "1500 0.0003064881\n",
      "1600 0.00026555426\n",
      "1700 0.00023272146\n",
      "1800 0.00020579931\n",
      "1900 0.0001833379\n",
      "2000 0.00016433245\n",
      "2100 0.00014805763\n",
      "2200 0.00013398765\n",
      "2300 0.00012171562\n",
      "2400 0.00011093879\n",
      "2500 0.000101414975\n",
      "Optimization Finished!\n"
     ]
    },
    {
     "data": {
      "image/png": "[encoded data removed]",
      "text/plain": [
       "<Figure size 432x288 with 1 Axes>"
      ]
     },
     "metadata": {
      "needs_background": "light"
     },
     "output_type": "display_data"
    },
    {
     "name": "stdout",
     "output_type": "stream",
     "text": [
      "Accuracy for train: 1.0\n",
      "> \u001b[1;32m<ipython-input-17-2ef0e2fbbd94>\u001b[0m(128)\u001b[0;36mevaluate\u001b[1;34m()\u001b[0m\n",
      "\u001b[1;32m    126 \u001b[1;33m            \u001b[0mprediction\u001b[0m \u001b[1;33m=\u001b[0m \u001b[0mpred\u001b[0m\u001b[1;33m.\u001b[0m\u001b[0meval\u001b[0m\u001b[1;33m(\u001b[0m\u001b[1;33m{\u001b[0m\u001b[0mX\u001b[0m\u001b[1;33m:\u001b[0m \u001b[0mtest_input\u001b[0m\u001b[1;33m}\u001b[0m\u001b[1;33m)\u001b[0m\u001b[1;33m\u001b[0m\u001b[0m\n",
      "\u001b[0m\u001b[1;32m    127 \u001b[1;33m            \u001b[1;32mimport\u001b[0m \u001b[0mpdb\u001b[0m\u001b[1;33m;\u001b[0m \u001b[0mpdb\u001b[0m\u001b[1;33m.\u001b[0m\u001b[0mset_trace\u001b[0m\u001b[1;33m(\u001b[0m\u001b[1;33m)\u001b[0m\u001b[1;33m\u001b[0m\u001b[0m\n",
      "\u001b[0m\u001b[1;32m--> 128 \u001b[1;33m            \u001b[1;32mif\u001b[0m \u001b[0mprediction\u001b[0m\u001b[1;33m[\u001b[0m\u001b[1;36m0\u001b[0m\u001b[1;33m]\u001b[0m\u001b[1;33m[\u001b[0m\u001b[1;36m1\u001b[0m\u001b[1;33m]\u001b[0m\u001b[1;33m>\u001b[0m\u001b[0mprediction\u001b[0m\u001b[1;33m[\u001b[0m\u001b[1;36m0\u001b[0m\u001b[1;33m]\u001b[0m\u001b[1;33m[\u001b[0m\u001b[1;36m0\u001b[0m\u001b[1;33m]\u001b[0m\u001b[1;33m:\u001b[0m\u001b[1;33m\u001b[0m\u001b[0m\n",
      "\u001b[0m\u001b[1;32m    129 \u001b[1;33m                \u001b[0mprint\u001b[0m\u001b[1;33m(\u001b[0m\u001b[1;34m'Genuine Image'\u001b[0m\u001b[1;33m)\u001b[0m\u001b[1;33m\u001b[0m\u001b[0m\n",
      "\u001b[0m\u001b[1;32m    130 \u001b[1;33m                \u001b[1;32mreturn\u001b[0m \u001b[1;32mTrue\u001b[0m\u001b[1;33m\u001b[0m\u001b[0m\n",
      "\u001b[0m\n",
      "[[0.73087275 0.26912722]]\n",
      "0.26912722\n",
      "0.73087275\n",
      "0.73087275\n",
      "0.73087275\n",
      "0.73087275\n",
      "0.73087275\n",
      "0.73087275\n",
      "0.73087275\n",
      "0.73087275\n",
      "0.73087275\n",
      "0.73087275\n",
      "0.73087275\n",
      "0.73087275\n",
      "0.73087275\n",
      "0.73087275\n",
      "0.73087275\n",
      "0.73087275\n",
      "0.73087275\n",
      "0.73087275\n",
      "0.73087275\n",
      "0.73087275\n",
      "0.73087275\n",
      "0.73087275\n",
      "0.73087275\n",
      "0.73087275\n",
      "0.73087275\n",
      "0.73087275\n",
      "0.73087275\n",
      "0.73087275\n",
      "0.73087275\n",
      "0.73087275\n",
      "0.73087275\n",
      "*** SyntaxError: invalid syntax\n",
      "Forged Image\n"
     ]
    },
    {
     "data": {
      "text/plain": [
       "False"
      ]
     },
     "execution_count": 18,
     "metadata": {},
     "output_type": "execute_result"
    }
   ],
   "source": [
    "evaluate(train_path, test_path, type2=True)"
   ]
  },
  {
   "cell_type": "code",
   "execution_count": 34,
   "metadata": {
    "collapsed": true
   },
   "outputs": [
    {
     "name": "stdout",
     "output_type": "stream",
     "text": [
      "Running for Person id 1\n",
      "0 2.4635847\n",
      "100 0.7893273\n",
      "200 0.18822591\n",
      "300 0.091823764\n",
      "400 0.033109408\n",
      "500 0.018366998\n",
      "600 0.012254977\n",
      "700 0.009126217\n",
      "800 0.007295709\n",
      "900 0.0061475914\n",
      "1000 0.0053804126\n",
      "1100 0.0048231874\n",
      "1200 0.0043805926\n",
      "1300 0.0040028165\n",
      "1400 0.0036639338\n",
      "1500 0.0033495538\n",
      "1600 0.0030507185\n",
      "1700 0.002761523\n",
      "1800 0.002477916\n",
      "1900 0.0021979043\n",
      "2000 0.0019217529\n",
      "2100 0.0016525717\n",
      "2200 0.0013961584\n",
      "2300 0.0011599174\n",
      "2400 0.0009507753\n",
      "2500 0.00077296415\n",
      "2600 0.000627076\n",
      "2700 0.000510471\n",
      "2800 0.00041873904\n",
      "2900 0.00034701338\n",
      "3000 0.0002908428\n",
      "3100 0.0002465605\n",
      "3200 0.00021130266\n",
      "3300 0.00018290729\n",
      "3400 0.00015975964\n",
      "3500 0.0001406711\n",
      "3600 0.00012474836\n",
      "3700 0.000111325586\n",
      "3800 9.990035e-05\n",
      "Optimization Finished!\n"
     ]
    },
    {
     "data": {
      "image/png": "[encoded data removed]",
      "text/plain": [
       "<Figure size 432x288 with 1 Axes>"
      ]
     },
     "metadata": {
      "needs_background": "light"
     },
     "output_type": "display_data"
    },
    {
     "name": "stdout",
     "output_type": "stream",
     "text": [
      "Accuracy for train: 1.0\n",
      "Running for Person id 2\n",
      "0 1.4651717\n",
      "100 1.3865963\n",
      "200 0.2605637\n",
      "300 0.25296426\n",
      "400 0.24509716\n",
      "500 0.22541861\n",
      "600 0.1888302\n",
      "700 0.14512052\n",
      "800 0.08955497\n",
      "900 0.057237606\n",
      "1000 0.04241863\n",
      "1100 0.032034025\n",
      "1200 0.024274379\n",
      "1300 0.018577421\n",
      "1400 0.0143499775\n",
      "1500 0.011122711\n",
      "1600 0.008609506\n",
      "1700 0.006655302\n",
      "1800 0.0051602586\n",
      "1900 0.004039517\n",
      "2000 0.0032056503\n",
      "2100 0.0025848802\n",
      "2200 0.0021197486\n",
      "2300 0.0017660479\n",
      "2400 0.0014925854\n",
      "2500 0.0012786841\n",
      "2600 0.001109085\n",
      "2700 0.00096934213\n",
      "2800 0.0008558589\n",
      "2900 0.0007660641\n",
      "3000 0.000682076\n",
      "3100 0.00061445567\n",
      "3200 0.00058931095\n",
      "3300 0.0005063515\n",
      "3400 0.0004627372\n",
      "3500 0.0004249957\n",
      "3600 0.00039049293\n",
      "3700 0.00036045955\n",
      "3800 0.0003423223\n",
      "3900 0.00030960882\n",
      "4000 0.00031179804\n",
      "4100 0.00026843874\n",
      "4200 0.00025050048\n",
      "4300 0.00023444835\n",
      "4400 0.00021949796\n",
      "4500 0.00020591448\n",
      "4600 0.00020510946\n",
      "4700 0.00018188621\n",
      "4800 0.00017173133\n",
      "4900 0.00016138186\n",
      "5000 0.00015235184\n",
      "5100 0.00014385984\n",
      "5200 0.00013614597\n",
      "5300 0.00012880132\n",
      "5400 0.00012377038\n",
      "5500 0.00011560329\n",
      "5600 0.000110408\n",
      "5700 0.000104220286\n",
      "Optimization Finished!\n"
     ]
    },
    {
     "data": {
      "image/png": "[encoded data removed]",
      "text/plain": [
       "<Figure size 432x288 with 1 Axes>"
      ]
     },
     "metadata": {
      "needs_background": "light"
     },
     "output_type": "display_data"
    },
    {
     "name": "stdout",
     "output_type": "stream",
     "text": [
      "Accuracy for train: 1.0\n",
      "Running for Person id 3\n",
      "0 1.9695158\n",
      "100 1.3173176\n",
      "200 0.14807914\n",
      "300 0.12506092\n",
      "400 0.102827854\n",
      "500 0.09365208\n",
      "600 0.08950368\n",
      "700 0.087310135\n",
      "800 0.08600556\n",
      "900 0.08515691\n",
      "1000 0.084574156\n",
      "1100 0.08416128\n",
      "1200 0.08386118\n",
      "1300 0.083636016\n",
      "1400 0.0834598\n",
      "1500 0.08331438\n",
      "1600 0.08318656\n",
      "1700 0.08306602\n",
      "1800 0.082943134\n",
      "1900 0.08280743\n",
      "2000 0.082644425\n",
      "2100 0.08243082\n",
      "2200 0.08212262\n",
      "2300 0.08162301\n",
      "2400 0.08067446\n",
      "2500 0.07837931\n",
      "2600 0.070366584\n",
      "2700 0.03716173\n",
      "2800 0.0044631385\n",
      "2900 0.0011507064\n",
      "3000 0.00056734844\n",
      "3100 0.0003560886\n",
      "3200 0.00025126294\n",
      "3300 0.00018982751\n",
      "3400 0.00014993982\n",
      "3500 0.00012218599\n",
      "3600 0.00010189315\n",
      "Optimization Finished!\n"
     ]
    },
    {
     "data": {
      "image/png": "[encoded data removed]",
      "text/plain": [
       "<Figure size 432x288 with 1 Axes>"
      ]
     },
     "metadata": {
      "needs_background": "light"
     },
     "output_type": "display_data"
    },
    {
     "name": "stdout",
     "output_type": "stream",
     "text": [
      "Accuracy for train: 1.0\n",
      "Running for Person id 4\n",
      "0 2.449459\n",
      "100 1.8519497\n",
      "200 0.087936155\n",
      "300 0.05707724\n",
      "400 0.04008663\n",
      "500 0.0249507\n",
      "600 0.011530268\n",
      "700 0.0046951273\n",
      "800 0.0022730755\n",
      "900 0.0013378779\n",
      "1000 0.0009055163\n",
      "1100 0.00067037105\n",
      "1200 0.000525813\n",
      "1300 0.0004286481\n",
      "1400 0.0003589467\n",
      "1500 0.0003064881\n",
      "1600 0.00026555426\n",
      "1700 0.00023272146\n",
      "1800 0.00020579931\n",
      "1900 0.0001833379\n",
      "2000 0.00016433245\n",
      "2100 0.00014805763\n",
      "2200 0.00013398765\n",
      "2300 0.00012171562\n",
      "2400 0.00011093879\n",
      "2500 0.000101414975\n",
      "Optimization Finished!\n"
     ]
    },
    {
     "data": {
      "image/png": "[encoded data removed]",
      "text/plain": [
       "<Figure size 432x288 with 1 Axes>"
      ]
     },
     "metadata": {
      "needs_background": "light"
     },
     "output_type": "display_data"
    },
    {
     "name": "stdout",
     "output_type": "stream",
     "text": [
      "Accuracy for train: 1.0\n",
      "Running for Person id 5\n",
      "0 2.131748\n",
      "100 1.3815321\n",
      "200 0.2642394\n",
      "300 0.22061817\n",
      "400 0.07505164\n",
      "500 0.029119177\n",
      "600 0.014905113\n",
      "700 0.008236654\n",
      "800 0.004746768\n",
      "900 0.0028404545\n",
      "1000 0.0017839236\n",
      "1100 0.0011980933\n",
      "1200 0.00086720084\n",
      "1300 0.00066808803\n",
      "1400 0.00053723936\n",
      "1500 0.0004443092\n",
      "1600 0.00037448911\n",
      "1700 0.00031999664\n",
      "1800 0.00027635883\n",
      "1900 0.0002407593\n",
      "2000 0.00021130302\n",
      "2100 0.00018664626\n",
      "2200 0.00016580003\n",
      "2300 0.00014802004\n",
      "2400 0.00013273834\n",
      "2500 0.00011951061\n",
      "2600 0.00010798831\n",
      "Optimization Finished!\n"
     ]
    },
    {
     "data": {
      "image/png": "[encoded data removed]",
      "text/plain": [
       "<Figure size 432x288 with 1 Axes>"
      ]
     },
     "metadata": {
      "needs_background": "light"
     },
     "output_type": "display_data"
    },
    {
     "name": "stdout",
     "output_type": "stream",
     "text": [
      "Accuracy for train: 1.0\n",
      "Running for Person id 6\n",
      "0 2.4797652\n",
      "100 1.3582317\n",
      "200 0.25418505\n",
      "300 0.1828466\n",
      "400 0.16563447\n",
      "500 0.15233557\n",
      "600 0.1392697\n",
      "700 0.124726176\n",
      "800 0.109352164\n",
      "900 0.099666744\n",
      "1000 0.09516671\n",
      "1100 0.0924626\n",
      "1200 0.0904808\n",
      "1300 0.088923484\n",
      "1400 0.08768827\n",
      "1500 0.08672023\n",
      "1600 0.08597352\n",
      "1700 0.08540469\n",
      "1800 0.08497412\n",
      "1900 0.084648125\n",
      "2000 0.08439993\n",
      "2100 0.0842093\n",
      "2200 0.08406124\n",
      "2300 0.08394482\n",
      "2400 0.083852135\n",
      "2500 0.08377748\n",
      "2600 0.08371664\n",
      "2700 0.083666556\n",
      "2800 0.08362493\n",
      "2900 0.08358996\n",
      "3000 0.0835604\n",
      "3100 0.083535194\n",
      "3200 0.08351361\n",
      "3300 0.08349491\n",
      "3400 0.08347868\n",
      "3500 0.0834645\n",
      "3600 0.08345207\n",
      "3700 0.08344111\n",
      "3800 0.08343139\n",
      "3900 0.08342276\n",
      "4000 0.08341509\n",
      "4100 0.083408214\n",
      "4200 0.08340201\n",
      "4300 0.083396435\n",
      "4400 0.083391435\n",
      "4500 0.083387166\n",
      "4600 0.08338285\n",
      "4700 0.08337924\n",
      "4800 0.08337582\n",
      "4900 0.083372824\n",
      "5000 0.08337006\n",
      "5100 0.08336756\n",
      "5200 0.08336524\n",
      "5300 0.08336312\n",
      "5400 0.08336138\n",
      "5500 0.08335947\n",
      "5600 0.08335783\n",
      "5700 0.08335641\n",
      "5800 0.08335505\n",
      "5900 0.083353855\n",
      "6000 0.083352685\n",
      "6100 0.08335173\n",
      "6200 0.083350636\n",
      "6300 0.08334977\n",
      "6400 0.0833489\n",
      "6500 0.083348274\n",
      "6600 0.08334737\n",
      "6700 0.08334688\n",
      "6800 0.0833461\n",
      "6900 0.08334565\n",
      "7000 0.08334493\n",
      "7100 0.08334451\n",
      "7200 0.0833439\n",
      "7300 0.083343506\n",
      "7400 0.08334301\n",
      "7500 0.08335274\n",
      "7600 0.08334222\n",
      "7700 0.08334573\n",
      "7800 0.08334152\n",
      "7900 0.08334119\n",
      "8000 0.08334085\n",
      "8100 0.083340585\n",
      "8200 0.08334026\n",
      "8300 0.08334002\n",
      "8400 0.08333974\n",
      "8500 0.08333952\n",
      "8600 0.08333931\n",
      "8700 0.08333906\n",
      "8800 0.083339\n",
      "8900 0.08333864\n",
      "9000 0.08333967\n",
      "9100 0.08333829\n",
      "9200 0.08333809\n",
      "9300 0.08333794\n",
      "9400 0.08333778\n",
      "9500 0.08333764\n",
      "9600 0.083337456\n",
      "9700 0.08333733\n",
      "9800 0.08333718\n",
      "9900 0.083337106\n",
      "9999 0.08333692\n",
      "Optimization Finished!\n"
     ]
    },
    {
     "data": {
      "image/png": "[encoded data removed]",
      "text/plain": [
       "<Figure size 432x288 with 1 Axes>"
      ]
     },
     "metadata": {
      "needs_background": "light"
     },
     "output_type": "display_data"
    },
    {
     "name": "stdout",
     "output_type": "stream",
     "text": [
      "Accuracy for train: 0.8333333\n",
      "Running for Person id 7\n",
      "0 2.4771848\n",
      "100 1.0428525\n",
      "200 0.31432015\n",
      "300 0.20976566\n",
      "400 0.17638506\n",
      "500 0.16707689\n",
      "600 0.1605952\n",
      "700 0.154427\n",
      "800 0.14748076\n",
      "900 0.13993843\n",
      "1000 0.13211563\n",
      "1100 0.12414196\n",
      "1200 0.11593425\n",
      "1300 0.10727521\n",
      "1400 0.09792954\n",
      "1500 0.087716945\n",
      "1600 0.076552205\n",
      "1700 0.064386025\n",
      "1800 0.05093575\n",
      "1900 0.03625572\n",
      "2000 0.02376918\n",
      "2100 0.015585352\n",
      "2200 0.010408256\n",
      "2300 0.0071515306\n",
      "2400 0.005093236\n",
      "2500 0.003762112\n",
      "2600 0.002872141\n",
      "2700 0.0022555115\n",
      "2800 0.0018135797\n",
      "2900 0.0014872802\n",
      "3000 0.0012419212\n",
      "3100 0.0010529798\n",
      "3200 0.00090442336\n",
      "3300 0.0007850919\n",
      "3400 0.0006877291\n",
      "3500 0.0006071666\n",
      "3600 0.0005397551\n",
      "3700 0.00048287542\n",
      "3800 0.00043441702\n",
      "3900 0.00039292406\n",
      "4000 0.00035624582\n",
      "4100 0.00032471525\n",
      "4200 0.00029661742\n",
      "4300 0.0002719842\n",
      "4400 0.00025121422\n",
      "4500 0.00023052585\n",
      "4600 0.00021527246\n",
      "4700 0.00019711627\n",
      "4800 0.00018292353\n",
      "4900 0.00016994205\n",
      "5000 0.00015812574\n",
      "5100 0.0001474145\n",
      "5200 0.0001375456\n",
      "5300 0.00012859101\n",
      "5400 0.00012167343\n",
      "5500 0.00011276\n",
      "5600 0.00010601755\n",
      "Optimization Finished!\n"
     ]
    },
    {
     "data": {
      "image/png": "[encoded data removed]",
      "text/plain": [
       "<Figure size 432x288 with 1 Axes>"
      ]
     },
     "metadata": {
      "needs_background": "light"
     },
     "output_type": "display_data"
    },
    {
     "name": "stdout",
     "output_type": "stream",
     "text": [
      "Accuracy for train: 1.0\n",
      "Running for Person id 8\n",
      "0 2.4947135\n",
      "100 1.1598359\n",
      "200 0.19503231\n",
      "300 0.16298251\n",
      "400 0.15484826\n",
      "500 0.15193556\n",
      "600 0.15002812\n",
      "700 0.14828527\n",
      "800 0.14631541\n",
      "900 0.14371894\n",
      "1000 0.13974369\n",
      "1100 0.13269848\n",
      "1200 0.11954235\n",
      "1300 0.09671635\n",
      "1400 0.06799266\n",
      "1500 0.04577392\n",
      "1600 0.031806827\n",
      "1700 0.023430577\n",
      "1800 0.018314904\n",
      "1900 0.0149783\n",
      "2000 0.012614898\n",
      "2100 0.010810393\n",
      "2200 0.009349481\n",
      "2300 0.008116634\n",
      "2400 0.007047884\n",
      "2500 0.006106952\n",
      "2600 0.0052731927\n",
      "2700 0.0045343894\n",
      "2800 0.00388233\n",
      "2900 0.0033110569\n",
      "3000 0.0028147215\n",
      "3100 0.0023874012\n",
      "3200 0.0020227118\n",
      "3300 0.0017139573\n",
      "3400 0.0014543384\n",
      "3500 0.0012372272\n",
      "3600 0.0010579085\n",
      "3700 0.00090977945\n",
      "3800 0.0007870877\n",
      "3900 0.0006851599\n",
      "4000 0.00059978734\n",
      "4100 0.0005297369\n",
      "4200 0.00046743196\n",
      "4300 0.0004157327\n",
      "4400 0.00037182448\n",
      "4500 0.00033348124\n",
      "4600 0.00030062892\n",
      "4700 0.00027280688\n",
      "4800 0.0002469512\n",
      "4900 0.0002252385\n",
      "5000 0.00020594108\n",
      "5100 0.00018873747\n",
      "5200 0.00017393113\n",
      "5300 0.00016037708\n",
      "5400 0.00014856303\n",
      "5500 0.00013765234\n",
      "5600 0.0001280841\n",
      "5700 0.00011955566\n",
      "5800 0.00011144623\n",
      "5900 0.000109216\n",
      "Optimization Finished!\n"
     ]
    },
    {
     "data": {
      "image/png": "[encoded data removed]",
      "text/plain": [
       "<Figure size 432x288 with 1 Axes>"
      ]
     },
     "metadata": {
      "needs_background": "light"
     },
     "output_type": "display_data"
    },
    {
     "name": "stdout",
     "output_type": "stream",
     "text": [
      "Accuracy for train: 1.0\n",
      "Running for Person id 9\n",
      "0 2.4976826\n",
      "100 0.83737254\n",
      "200 0.21870585\n",
      "300 0.16380998\n",
      "400 0.14452548\n",
      "500 0.1293822\n",
      "600 0.11406777\n",
      "700 0.09353917\n",
      "800 0.07729574\n",
      "900 0.06523067\n",
      "1000 0.05529635\n",
      "1100 0.046509653\n",
      "1200 0.038512796\n",
      "1300 0.031237846\n",
      "1400 0.024786806\n",
      "1500 0.019302825\n",
      "1600 0.014853862\n",
      "1700 0.011388797\n",
      "1800 0.008766512\n",
      "1900 0.006814655\n",
      "2000 0.0053764745\n",
      "2100 0.0043100766\n",
      "2200 0.0035106593\n",
      "2300 0.0029031003\n",
      "2400 0.0024320476\n",
      "2500 0.0020704882\n",
      "2600 0.0017681769\n",
      "2700 0.0015308507\n",
      "2800 0.0013396685\n",
      "2900 0.0011755099\n",
      "3000 0.0010409747\n",
      "3100 0.0009299169\n",
      "3200 0.000830386\n",
      "3300 0.0007472208\n",
      "3400 0.0006751593\n",
      "3500 0.0006125073\n",
      "3600 0.0005582513\n",
      "3700 0.0005089643\n",
      "3800 0.00046618597\n",
      "3900 0.00044006118\n",
      "4000 0.00039381845\n",
      "4100 0.00036318647\n",
      "4200 0.00033566987\n",
      "4300 0.00031316388\n",
      "4400 0.0002881508\n",
      "4500 0.00026780344\n",
      "4600 0.00024909503\n",
      "4700 0.00023217073\n",
      "4800 0.00021710015\n",
      "4900 0.00020238485\n",
      "5000 0.00022718764\n",
      "5100 0.00017732898\n",
      "5200 0.00020193978\n",
      "5300 0.0001560562\n",
      "5400 0.00014755364\n",
      "5500 0.00013794792\n",
      "5600 0.00013081996\n",
      "5700 0.00012246052\n",
      "5800 0.00011582399\n",
      "5900 0.00010910766\n",
      "6000 0.00010353859\n",
      "Optimization Finished!\n"
     ]
    },
    {
     "data": {
      "image/png": "[encoded data removed]",
      "text/plain": [
       "<Figure size 432x288 with 1 Axes>"
      ]
     },
     "metadata": {
      "needs_background": "light"
     },
     "output_type": "display_data"
    },
    {
     "name": "stdout",
     "output_type": "stream",
     "text": [
      "Accuracy for train: 1.0\n",
      "Running for Person id 10\n",
      "0 1.8221245\n",
      "100 1.4265445\n",
      "200 0.2849778\n",
      "300 0.18179417\n",
      "400 0.065605976\n",
      "500 0.040252034\n",
      "600 0.02858273\n",
      "700 0.020357644\n",
      "800 0.015377325\n",
      "900 0.012600715\n",
      "1000 0.010784651\n",
      "1100 0.00941547\n",
      "1200 0.0083056735\n",
      "1300 0.007369563\n",
      "1400 0.0065633655\n",
      "1500 0.0058621024\n",
      "1600 0.0052491077\n",
      "1700 0.004711391\n",
      "1800 0.0042382474\n",
      "1900 0.0038203828\n",
      "2000 0.0034499608\n",
      "2100 0.0031201022\n",
      "2200 0.0028249435\n",
      "2300 0.0025594926\n",
      "2400 0.0023194496\n",
      "2500 0.0021012758\n",
      "2600 0.0019019833\n",
      "2700 0.0017190288\n",
      "2800 0.001550486\n",
      "2900 0.0013946673\n",
      "3000 0.0012503499\n",
      "3100 0.0011166261\n",
      "3200 0.0009927956\n",
      "3300 0.00087846426\n",
      "3400 0.00077333447\n",
      "3500 0.00067728455\n",
      "3600 0.0005901602\n",
      "3700 0.0005118469\n",
      "3800 0.0004420624\n",
      "3900 0.00038048287\n",
      "4000 0.00032660319\n",
      "4100 0.0002798531\n",
      "4200 0.00023957515\n",
      "4300 0.00020505239\n",
      "4400 0.00017646053\n",
      "4500 0.00015064246\n",
      "4600 0.00012970266\n",
      "4700 0.00011173874\n",
      "Optimization Finished!\n"
     ]
    },
    {
     "data": {
      "image/png": "[encoded data removed]",
      "text/plain": [
       "<Figure size 432x288 with 1 Axes>"
      ]
     },
     "metadata": {
      "needs_background": "light"
     },
     "output_type": "display_data"
    },
    {
     "name": "stdout",
     "output_type": "stream",
     "text": [
      "Accuracy for train: 1.0\n",
      "Running for Person id 11\n",
      "0 2.4123206\n",
      "100 1.3285486\n",
      "200 1.2542331\n",
      "300 1.2415375\n",
      "400 0.36333513\n",
      "500 0.13568912\n",
      "600 0.11918547\n",
      "700 0.09923414\n",
      "800 0.07262085\n",
      "900 0.044745535\n",
      "1000 0.024131475\n",
      "1100 0.012540516\n",
      "1200 0.007062029\n",
      "1300 0.00447782\n",
      "1400 0.003108329\n",
      "1500 0.0022911362\n",
      "1600 0.0017608391\n",
      "1700 0.0013957733\n",
      "1800 0.0011331482\n",
      "1900 0.00093757286\n",
      "2000 0.00078783097\n",
      "2100 0.0006705233\n",
      "2200 0.00057685404\n",
      "2300 0.0005008311\n",
      "2400 0.00043825957\n",
      "2500 0.00038613347\n",
      "2600 0.00034224798\n",
      "2700 0.0003049568\n",
      "2800 0.00027300173\n",
      "2900 0.00024541552\n",
      "3000 0.00022144685\n",
      "3100 0.0002004933\n",
      "3200 0.00018207928\n",
      "3300 0.00016581343\n",
      "3400 0.00015138413\n",
      "3500 0.00013853076\n",
      "3600 0.00012703676\n",
      "3700 0.00011672409\n",
      "3800 0.00010744302\n",
      "Optimization Finished!\n"
     ]
    },
    {
     "data": {
      "image/png": "[encoded data removed]",
      "text/plain": [
       "<Figure size 432x288 with 1 Axes>"
      ]
     },
     "metadata": {
      "needs_background": "light"
     },
     "output_type": "display_data"
    },
    {
     "name": "stdout",
     "output_type": "stream",
     "text": [
      "Accuracy for train: 1.0\n",
      "Running for Person id 12\n",
      "0 1.9943237\n",
      "100 1.4207293\n",
      "200 0.28042665\n",
      "300 0.23671527\n",
      "400 0.093794525\n",
      "500 0.06464896\n",
      "600 0.048735905\n",
      "700 0.035558227\n",
      "800 0.024444193\n",
      "900 0.016361922\n",
      "1000 0.011372772\n",
      "1100 0.008383883\n",
      "1200 0.006430944\n",
      "1300 0.0050381008\n",
      "1400 0.0039881286\n",
      "1500 0.0031710423\n",
      "1600 0.0025256628\n",
      "1700 0.0020143527\n",
      "1800 0.0016113194\n",
      "1900 0.0012964272\n",
      "2000 0.0010524481\n",
      "2100 0.0008641787\n",
      "2200 0.0007185461\n",
      "2300 0.000604968\n",
      "2400 0.00051531784\n",
      "2500 0.00044358638\n",
      "2600 0.00038540605\n",
      "2700 0.00033759917\n",
      "2800 0.0002978493\n",
      "2900 0.00026443193\n",
      "3000 0.00023606962\n",
      "3100 0.00021177798\n",
      "3200 0.00019081391\n",
      "3300 0.00017258823\n",
      "3400 0.00015664462\n",
      "3500 0.00014261743\n",
      "3600 0.00013020901\n",
      "3700 0.00011918213\n",
      "3800 0.00010934022\n",
      "3900 0.00010052221\n",
      "Optimization Finished!\n"
     ]
    },
    {
     "data": {
      "image/png": "[encoded data removed]",
      "text/plain": [
       "<Figure size 432x288 with 1 Axes>"
      ]
     },
     "metadata": {
      "needs_background": "light"
     },
     "output_type": "display_data"
    },
    {
     "name": "stdout",
     "output_type": "stream",
     "text": [
      "Accuracy for train: 1.0\n",
      "Running for Person id 13\n",
      "0 2.3795764\n",
      "100 1.299964\n",
      "200 0.08330999\n",
      "300 0.062124323\n",
      "400 0.037215818\n",
      "500 0.022617208\n",
      "600 0.017422264\n",
      "700 0.013791745\n",
      "800 0.010997958\n",
      "900 0.008731894\n",
      "1000 0.0069433204\n",
      "1100 0.0056078327\n",
      "1200 0.004620095\n",
      "1300 0.0038545998\n",
      "1400 0.0032269333\n",
      "1500 0.0026948706\n",
      "1600 0.0022388196\n",
      "1700 0.001849046\n",
      "1800 0.0015191175\n",
      "1900 0.0012435162\n",
      "2000 0.0010163158\n",
      "2100 0.0008312512\n",
      "2200 0.00068195147\n",
      "2300 0.0005621838\n",
      "2400 0.0004663903\n",
      "2500 0.0003897342\n",
      "2600 0.00032820122\n",
      "2700 0.00027856196\n",
      "2800 0.00023825432\n",
      "2900 0.00020529419\n",
      "3000 0.00017812573\n",
      "3100 0.00015556441\n",
      "3200 0.00013667792\n",
      "3300 0.000120751116\n",
      "3400 0.000107221225\n",
      "Optimization Finished!\n"
     ]
    },
    {
     "data": {
      "image/png": "[encoded data removed]",
      "text/plain": [
       "<Figure size 432x288 with 1 Axes>"
      ]
     },
     "metadata": {
      "needs_background": "light"
     },
     "output_type": "display_data"
    },
    {
     "name": "stdout",
     "output_type": "stream",
     "text": [
      "Accuracy for train: 1.0\n",
      "Running for Person id 14\n",
      "0 2.4682539\n",
      "100 1.3277005\n",
      "200 0.25241792\n",
      "300 0.2362644\n",
      "400 0.21728356\n",
      "500 0.18298297\n",
      "600 0.15228826\n",
      "700 0.13088691\n",
      "800 0.11810606\n",
      "900 0.10816277\n",
      "1000 0.09991837\n",
      "1100 0.092966676\n",
      "1200 0.08677215\n",
      "1300 0.08087299\n",
      "1400 0.075005956\n",
      "1500 0.06907127\n",
      "1600 0.06304186\n",
      "1700 0.056888524\n",
      "1800 0.050548762\n",
      "1900 0.043927204\n",
      "2000 0.036779698\n",
      "2100 0.02727636\n",
      "2200 0.018619262\n",
      "2300 0.012976841\n",
      "2400 0.009189983\n",
      "2500 0.00668955\n",
      "2600 0.005009884\n",
      "2700 0.0038461972\n",
      "2800 0.0030165194\n",
      "2900 0.0024105434\n",
      "3000 0.0019585507\n",
      "3100 0.0016174145\n",
      "3200 0.0013557328\n",
      "3300 0.0011510022\n",
      "3400 0.0009878193\n",
      "3500 0.00085615803\n",
      "3600 0.00074855797\n",
      "3700 0.0006594613\n",
      "3800 0.0005846945\n",
      "3900 0.00052150193\n",
      "4000 0.00046738648\n",
      "4100 0.00042100795\n",
      "4200 0.00038339745\n",
      "4300 0.00034565385\n",
      "4400 0.0003149477\n",
      "4500 0.00028774273\n",
      "4600 0.0002637635\n",
      "4700 0.00024250754\n",
      "4800 0.00022320224\n",
      "4900 0.00020708895\n",
      "5000 0.00019064893\n",
      "5100 0.00017831362\n",
      "5200 0.00016407412\n",
      "5300 0.00015301611\n",
      "5400 0.00014304044\n",
      "5500 0.00013259119\n",
      "5600 0.00012672672\n",
      "5700 0.00011590246\n",
      "5800 0.00011415117\n",
      "5900 0.00010177776\n",
      "Optimization Finished!\n"
     ]
    },
    {
     "data": {
      "image/png": "[encoded data removed]",
      "text/plain": [
       "<Figure size 432x288 with 1 Axes>"
      ]
     },
     "metadata": {
      "needs_background": "light"
     },
     "output_type": "display_data"
    },
    {
     "name": "stdout",
     "output_type": "stream",
     "text": [
      "Accuracy for train: 1.0\n",
      "Number of neurons in Hidden layer- 7\n",
      "Number of neurons in Hidden layer- 7\n",
      "Training average- 0.9880952366760799\n",
      "Testing average- 0.5\n",
      "Time taken- 52.43410539627075\n",
      "Learning rate-  0.001\n"
     ]
    },
    {
     "data": {
      "text/plain": [
       "(0.9880952366760799, 0.5, 3.745293242590768)"
      ]
     },
     "execution_count": 34,
     "metadata": {},
     "output_type": "execute_result"
    }
   ],
   "source": [
    "trainAndTest(display=True)"
   ]
  },
  {
   "cell_type": "code",
   "execution_count": null,
   "metadata": {
    "collapsed": true
   },
   "outputs": [],
   "source": []
  },
  {
   "cell_type": "code",
   "execution_count": null,
   "metadata": {
    "collapsed": true
   },
   "outputs": [],
   "source": []
  },
  {
   "cell_type": "code",
   "execution_count": null,
   "metadata": {
    "collapsed": true
   },
   "outputs": [],
   "source": []
  },
  {
   "cell_type": "code",
   "execution_count": null,
   "metadata": {
    "collapsed": true
   },
   "outputs": [],
   "source": []
  },
  {
   "cell_type": "code",
   "execution_count": null,
   "metadata": {
    "collapsed": true
   },
   "outputs": [],
   "source": []
  },
  {
   "cell_type": "code",
   "execution_count": null,
   "metadata": {
    "collapsed": true
   },
   "outputs": [],
   "source": []
  },
  {
   "cell_type": "code",
   "execution_count": null,
   "metadata": {
    "collapsed": true
   },
   "outputs": [],
   "source": []
  },
  {
   "cell_type": "code",
   "execution_count": null,
   "metadata": {
    "collapsed": true
   },
   "outputs": [],
   "source": []
  },
  {
   "cell_type": "code",
   "execution_count": null,
   "metadata": {
    "collapsed": true
   },
   "outputs": [],
   "source": []
  },
  {
   "cell_type": "code",
   "execution_count": null,
   "metadata": {
    "collapsed": true
   },
   "outputs": [],
   "source": []
  },
  {
   "cell_type": "code",
   "execution_count": null,
   "metadata": {
    "collapsed": true
   },
   "outputs": [],
   "source": []
  },
  {
   "cell_type": "code",
   "execution_count": null,
   "metadata": {
    "collapsed": true
   },
   "outputs": [],
   "source": []
  },
  {
   "cell_type": "code",
   "execution_count": null,
   "metadata": {
    "collapsed": true
   },
   "outputs": [],
   "source": []
  },
  {
   "cell_type": "code",
   "execution_count": null,
   "metadata": {
    "collapsed": true
   },
   "outputs": [],
   "source": []
  },
  {
   "cell_type": "code",
   "execution_count": null,
   "metadata": {
    "collapsed": true
   },
   "outputs": [],
   "source": []
  },
  {
   "cell_type": "code",
   "execution_count": null,
   "metadata": {
    "collapsed": true
   },
   "outputs": [],
   "source": []
  },
  {
   "cell_type": "code",
   "execution_count": null,
   "metadata": {
    "collapsed": true
   },
   "outputs": [],
   "source": []
  },
  {
   "cell_type": "code",
   "execution_count": null,
   "metadata": {
    "collapsed": true
   },
   "outputs": [],
   "source": []
  },
  {
   "cell_type": "code",
   "execution_count": null,
   "metadata": {
    "collapsed": true
   },
   "outputs": [],
   "source": []
  },
  {
   "cell_type": "code",
   "execution_count": null,
   "metadata": {
    "collapsed": true
   },
   "outputs": [],
   "source": []
  },
  {
   "cell_type": "code",
   "execution_count": null,
   "metadata": {
    "collapsed": true
   },
   "outputs": [],
   "source": []
  },
  {
   "cell_type": "code",
   "execution_count": null,
   "metadata": {
    "collapsed": true
   },
   "outputs": [],
   "source": []
  },
  {
   "cell_type": "code",
   "execution_count": null,
   "metadata": {
    "collapsed": true
   },
   "outputs": [],
   "source": []
  },
  {
   "cell_type": "code",
   "execution_count": null,
   "metadata": {
    "collapsed": true
   },
   "outputs": [],
   "source": []
  },
  {
   "cell_type": "code",
   "execution_count": null,
   "metadata": {
    "collapsed": true
   },
   "outputs": [],
   "source": []
  },
  {
   "cell_type": "code",
   "execution_count": null,
   "metadata": {
    "collapsed": true
   },
   "outputs": [],
   "source": []
  },
  {
   "cell_type": "code",
   "execution_count": null,
   "metadata": {
    "collapsed": true
   },
   "outputs": [],
   "source": []
  }
 ],
 "metadata": {
  "kernelspec": {
   "display_name": "Python 3",
   "language": "python",
   "name": "python3"
  },
  "language_info": {
   "codemirror_mode": {
    "name": "ipython",
    "version": 3
   },
   "file_extension": ".py",
   "mimetype": "text/x-python",
   "name": "python",
   "nbconvert_exporter": "python",
   "pygments_lexer": "ipython3",
   "version": "3.6.6"
  }
 },
 "nbformat": 4,
 "nbformat_minor": 2
}
